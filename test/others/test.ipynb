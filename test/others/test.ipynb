{
 "cells": [
  {
   "cell_type": "code",
   "execution_count": 1,
   "metadata": {},
   "outputs": [],
   "source": [
    "import sys\n",
    "sys.path.append('../src/')\n",
    "from node import Node\n",
    "from rdr import RDR"
   ]
  },
  {
   "cell_type": "code",
   "execution_count": 2,
   "metadata": {},
   "outputs": [
    {
     "ename": "KeyboardInterrupt",
     "evalue": "",
     "output_type": "error",
     "traceback": [
      "\u001b[1;31m---------------------------------------------------------------------------\u001b[0m",
      "\u001b[1;31mKeyboardInterrupt\u001b[0m                         Traceback (most recent call last)",
      "Cell \u001b[1;32mIn[2], line 2\u001b[0m\n\u001b[0;32m      1\u001b[0m \u001b[38;5;28;01mimport\u001b[39;00m \u001b[38;5;21;01mpandas\u001b[39;00m \u001b[38;5;28;01mas\u001b[39;00m \u001b[38;5;21;01mpd\u001b[39;00m\n\u001b[1;32m----> 2\u001b[0m \u001b[38;5;28;01mfrom\u001b[39;00m \u001b[38;5;21;01msklearn\u001b[39;00m\u001b[38;5;21;01m.\u001b[39;00m\u001b[38;5;21;01mtree\u001b[39;00m \u001b[38;5;28;01mimport\u001b[39;00m DecisionTreeClassifier\n\u001b[0;32m      3\u001b[0m \u001b[38;5;28;01mfrom\u001b[39;00m \u001b[38;5;21;01msklearn\u001b[39;00m\u001b[38;5;21;01m.\u001b[39;00m\u001b[38;5;21;01mmodel_selection\u001b[39;00m \u001b[38;5;28;01mimport\u001b[39;00m train_test_split\n\u001b[0;32m      4\u001b[0m \u001b[38;5;28;01mfrom\u001b[39;00m \u001b[38;5;21;01msklearn\u001b[39;00m \u001b[38;5;28;01mimport\u001b[39;00m metrics\n",
      "File \u001b[1;32mc:\\Users\\Vieri\\AppData\\Local\\Programs\\Python\\Python312\\Lib\\site-packages\\sklearn\\__init__.py:87\u001b[0m\n\u001b[0;32m     73\u001b[0m     \u001b[38;5;66;03m# We are not importing the rest of scikit-learn during the build\u001b[39;00m\n\u001b[0;32m     74\u001b[0m     \u001b[38;5;66;03m# process, as it may not be compiled yet\u001b[39;00m\n\u001b[0;32m     75\u001b[0m \u001b[38;5;28;01melse\u001b[39;00m:\n\u001b[1;32m   (...)\u001b[0m\n\u001b[0;32m     81\u001b[0m     \u001b[38;5;66;03m# later is linked to the OpenMP runtime to make it possible to introspect\u001b[39;00m\n\u001b[0;32m     82\u001b[0m     \u001b[38;5;66;03m# it and importing it first would fail if the OpenMP dll cannot be found.\u001b[39;00m\n\u001b[0;32m     83\u001b[0m     \u001b[38;5;28;01mfrom\u001b[39;00m \u001b[38;5;21;01m.\u001b[39;00m \u001b[38;5;28;01mimport\u001b[39;00m (\n\u001b[0;32m     84\u001b[0m         __check_build,  \u001b[38;5;66;03m# noqa: F401\u001b[39;00m\n\u001b[0;32m     85\u001b[0m         _distributor_init,  \u001b[38;5;66;03m# noqa: F401\u001b[39;00m\n\u001b[0;32m     86\u001b[0m     )\n\u001b[1;32m---> 87\u001b[0m     \u001b[38;5;28;01mfrom\u001b[39;00m \u001b[38;5;21;01m.\u001b[39;00m\u001b[38;5;21;01mbase\u001b[39;00m \u001b[38;5;28;01mimport\u001b[39;00m clone\n\u001b[0;32m     88\u001b[0m     \u001b[38;5;28;01mfrom\u001b[39;00m \u001b[38;5;21;01m.\u001b[39;00m\u001b[38;5;21;01mutils\u001b[39;00m\u001b[38;5;21;01m.\u001b[39;00m\u001b[38;5;21;01m_show_versions\u001b[39;00m \u001b[38;5;28;01mimport\u001b[39;00m show_versions\n\u001b[0;32m     90\u001b[0m     __all__ \u001b[38;5;241m=\u001b[39m [\n\u001b[0;32m     91\u001b[0m         \u001b[38;5;124m\"\u001b[39m\u001b[38;5;124mcalibration\u001b[39m\u001b[38;5;124m\"\u001b[39m,\n\u001b[0;32m     92\u001b[0m         \u001b[38;5;124m\"\u001b[39m\u001b[38;5;124mcluster\u001b[39m\u001b[38;5;124m\"\u001b[39m,\n\u001b[1;32m   (...)\u001b[0m\n\u001b[0;32m    133\u001b[0m         \u001b[38;5;124m\"\u001b[39m\u001b[38;5;124mshow_versions\u001b[39m\u001b[38;5;124m\"\u001b[39m,\n\u001b[0;32m    134\u001b[0m     ]\n",
      "File \u001b[1;32mc:\\Users\\Vieri\\AppData\\Local\\Programs\\Python\\Python312\\Lib\\site-packages\\sklearn\\base.py:19\u001b[0m\n\u001b[0;32m     17\u001b[0m \u001b[38;5;28;01mfrom\u001b[39;00m \u001b[38;5;21;01m.\u001b[39;00m\u001b[38;5;21;01m_config\u001b[39;00m \u001b[38;5;28;01mimport\u001b[39;00m config_context, get_config\n\u001b[0;32m     18\u001b[0m \u001b[38;5;28;01mfrom\u001b[39;00m \u001b[38;5;21;01m.\u001b[39;00m\u001b[38;5;21;01mexceptions\u001b[39;00m \u001b[38;5;28;01mimport\u001b[39;00m InconsistentVersionWarning\n\u001b[1;32m---> 19\u001b[0m \u001b[38;5;28;01mfrom\u001b[39;00m \u001b[38;5;21;01m.\u001b[39;00m\u001b[38;5;21;01mutils\u001b[39;00m \u001b[38;5;28;01mimport\u001b[39;00m _IS_32BIT\n\u001b[0;32m     20\u001b[0m \u001b[38;5;28;01mfrom\u001b[39;00m \u001b[38;5;21;01m.\u001b[39;00m\u001b[38;5;21;01mutils\u001b[39;00m\u001b[38;5;21;01m.\u001b[39;00m\u001b[38;5;21;01m_estimator_html_repr\u001b[39;00m \u001b[38;5;28;01mimport\u001b[39;00m _HTMLDocumentationLinkMixin, estimator_html_repr\n\u001b[0;32m     21\u001b[0m \u001b[38;5;28;01mfrom\u001b[39;00m \u001b[38;5;21;01m.\u001b[39;00m\u001b[38;5;21;01mutils\u001b[39;00m\u001b[38;5;21;01m.\u001b[39;00m\u001b[38;5;21;01m_metadata_requests\u001b[39;00m \u001b[38;5;28;01mimport\u001b[39;00m _MetadataRequester, _routing_enabled\n",
      "File \u001b[1;32mc:\\Users\\Vieri\\AppData\\Local\\Programs\\Python\\Python312\\Lib\\site-packages\\sklearn\\utils\\__init__.py:22\u001b[0m\n\u001b[0;32m     20\u001b[0m \u001b[38;5;28;01mfrom\u001b[39;00m \u001b[38;5;21;01m.\u001b[39;00m \u001b[38;5;28;01mimport\u001b[39;00m _joblib, metadata_routing\n\u001b[0;32m     21\u001b[0m \u001b[38;5;28;01mfrom\u001b[39;00m \u001b[38;5;21;01m.\u001b[39;00m\u001b[38;5;21;01m_bunch\u001b[39;00m \u001b[38;5;28;01mimport\u001b[39;00m Bunch\n\u001b[1;32m---> 22\u001b[0m \u001b[38;5;28;01mfrom\u001b[39;00m \u001b[38;5;21;01m.\u001b[39;00m\u001b[38;5;21;01m_estimator_html_repr\u001b[39;00m \u001b[38;5;28;01mimport\u001b[39;00m estimator_html_repr\n\u001b[0;32m     23\u001b[0m \u001b[38;5;28;01mfrom\u001b[39;00m \u001b[38;5;21;01m.\u001b[39;00m\u001b[38;5;21;01m_param_validation\u001b[39;00m \u001b[38;5;28;01mimport\u001b[39;00m Integral, Interval, validate_params\n\u001b[0;32m     24\u001b[0m \u001b[38;5;28;01mfrom\u001b[39;00m \u001b[38;5;21;01m.\u001b[39;00m\u001b[38;5;21;01mclass_weight\u001b[39;00m \u001b[38;5;28;01mimport\u001b[39;00m compute_class_weight, compute_sample_weight\n",
      "File \u001b[1;32mc:\\Users\\Vieri\\AppData\\Local\\Programs\\Python\\Python312\\Lib\\site-packages\\sklearn\\utils\\_estimator_html_repr.py:10\u001b[0m\n\u001b[0;32m      7\u001b[0m \u001b[38;5;28;01mfrom\u001b[39;00m \u001b[38;5;21;01mstring\u001b[39;00m \u001b[38;5;28;01mimport\u001b[39;00m Template\n\u001b[0;32m      9\u001b[0m \u001b[38;5;28;01mfrom\u001b[39;00m \u001b[38;5;21;01m.\u001b[39;00m\u001b[38;5;21;01m.\u001b[39;00m \u001b[38;5;28;01mimport\u001b[39;00m __version__, config_context\n\u001b[1;32m---> 10\u001b[0m \u001b[38;5;28;01mfrom\u001b[39;00m \u001b[38;5;21;01m.\u001b[39;00m\u001b[38;5;21;01mfixes\u001b[39;00m \u001b[38;5;28;01mimport\u001b[39;00m parse_version\n\u001b[0;32m     13\u001b[0m \u001b[38;5;28;01mclass\u001b[39;00m \u001b[38;5;21;01m_IDCounter\u001b[39;00m:\n\u001b[0;32m     14\u001b[0m \u001b[38;5;250m    \u001b[39m\u001b[38;5;124;03m\"\"\"Generate sequential ids with a prefix.\"\"\"\u001b[39;00m\n",
      "File \u001b[1;32mc:\\Users\\Vieri\\AppData\\Local\\Programs\\Python\\Python312\\Lib\\site-packages\\sklearn\\utils\\fixes.py:17\u001b[0m\n\u001b[0;32m     15\u001b[0m \u001b[38;5;28;01mimport\u001b[39;00m \u001b[38;5;21;01mscipy\u001b[39;00m\n\u001b[0;32m     16\u001b[0m \u001b[38;5;28;01mimport\u001b[39;00m \u001b[38;5;21;01mscipy\u001b[39;00m\u001b[38;5;21;01m.\u001b[39;00m\u001b[38;5;21;01msparse\u001b[39;00m\u001b[38;5;21;01m.\u001b[39;00m\u001b[38;5;21;01mlinalg\u001b[39;00m\n\u001b[1;32m---> 17\u001b[0m \u001b[38;5;28;01mimport\u001b[39;00m \u001b[38;5;21;01mscipy\u001b[39;00m\u001b[38;5;21;01m.\u001b[39;00m\u001b[38;5;21;01mstats\u001b[39;00m\n\u001b[0;32m     18\u001b[0m \u001b[38;5;28;01mimport\u001b[39;00m \u001b[38;5;21;01mthreadpoolctl\u001b[39;00m\n\u001b[0;32m     20\u001b[0m \u001b[38;5;28;01mimport\u001b[39;00m \u001b[38;5;21;01msklearn\u001b[39;00m\n",
      "File \u001b[1;32mc:\\Users\\Vieri\\AppData\\Local\\Programs\\Python\\Python312\\Lib\\site-packages\\scipy\\stats\\__init__.py:606\u001b[0m\n\u001b[0;32m      1\u001b[0m \u001b[38;5;124;03m\"\"\"\u001b[39;00m\n\u001b[0;32m      2\u001b[0m \u001b[38;5;124;03m.. _statsrefmanual:\u001b[39;00m\n\u001b[0;32m      3\u001b[0m \n\u001b[1;32m   (...)\u001b[0m\n\u001b[0;32m    601\u001b[0m \n\u001b[0;32m    602\u001b[0m \u001b[38;5;124;03m\"\"\"\u001b[39;00m  \u001b[38;5;66;03m# noqa: E501\u001b[39;00m\n\u001b[0;32m    604\u001b[0m \u001b[38;5;28;01mfrom\u001b[39;00m \u001b[38;5;21;01m.\u001b[39;00m\u001b[38;5;21;01m_warnings_errors\u001b[39;00m \u001b[38;5;28;01mimport\u001b[39;00m (ConstantInputWarning, NearConstantInputWarning,\n\u001b[0;32m    605\u001b[0m                                DegenerateDataWarning, FitError)\n\u001b[1;32m--> 606\u001b[0m \u001b[38;5;28;01mfrom\u001b[39;00m \u001b[38;5;21;01m.\u001b[39;00m\u001b[38;5;21;01m_stats_py\u001b[39;00m \u001b[38;5;28;01mimport\u001b[39;00m \u001b[38;5;241m*\u001b[39m\n\u001b[0;32m    607\u001b[0m \u001b[38;5;28;01mfrom\u001b[39;00m \u001b[38;5;21;01m.\u001b[39;00m\u001b[38;5;21;01m_variation\u001b[39;00m \u001b[38;5;28;01mimport\u001b[39;00m variation\n\u001b[0;32m    608\u001b[0m \u001b[38;5;28;01mfrom\u001b[39;00m \u001b[38;5;21;01m.\u001b[39;00m\u001b[38;5;21;01mdistributions\u001b[39;00m \u001b[38;5;28;01mimport\u001b[39;00m \u001b[38;5;241m*\u001b[39m\n",
      "File \u001b[1;32mc:\\Users\\Vieri\\AppData\\Local\\Programs\\Python\\Python312\\Lib\\site-packages\\scipy\\stats\\_stats_py.py:42\u001b[0m\n\u001b[0;32m     39\u001b[0m \u001b[38;5;28;01mfrom\u001b[39;00m \u001b[38;5;21;01mscipy\u001b[39;00m\u001b[38;5;21;01m.\u001b[39;00m\u001b[38;5;21;01mspatial\u001b[39;00m \u001b[38;5;28;01mimport\u001b[39;00m distance_matrix\n\u001b[0;32m     41\u001b[0m \u001b[38;5;28;01mfrom\u001b[39;00m \u001b[38;5;21;01mscipy\u001b[39;00m\u001b[38;5;21;01m.\u001b[39;00m\u001b[38;5;21;01mndimage\u001b[39;00m \u001b[38;5;28;01mimport\u001b[39;00m _measurements\n\u001b[1;32m---> 42\u001b[0m \u001b[38;5;28;01mfrom\u001b[39;00m \u001b[38;5;21;01mscipy\u001b[39;00m\u001b[38;5;21;01m.\u001b[39;00m\u001b[38;5;21;01moptimize\u001b[39;00m \u001b[38;5;28;01mimport\u001b[39;00m milp, LinearConstraint\n\u001b[0;32m     43\u001b[0m \u001b[38;5;28;01mfrom\u001b[39;00m \u001b[38;5;21;01mscipy\u001b[39;00m\u001b[38;5;21;01m.\u001b[39;00m\u001b[38;5;21;01m_lib\u001b[39;00m\u001b[38;5;21;01m.\u001b[39;00m\u001b[38;5;21;01m_util\u001b[39;00m \u001b[38;5;28;01mimport\u001b[39;00m (check_random_state, MapWrapper, _get_nan,\n\u001b[0;32m     44\u001b[0m                               rng_integers, _rename_parameter, _contains_nan,\n\u001b[0;32m     45\u001b[0m                               AxisError)\n\u001b[0;32m     47\u001b[0m \u001b[38;5;28;01mimport\u001b[39;00m \u001b[38;5;21;01mscipy\u001b[39;00m\u001b[38;5;21;01m.\u001b[39;00m\u001b[38;5;21;01mspecial\u001b[39;00m \u001b[38;5;28;01mas\u001b[39;00m \u001b[38;5;21;01mspecial\u001b[39;00m\n",
      "File \u001b[1;32mc:\\Users\\Vieri\\AppData\\Local\\Programs\\Python\\Python312\\Lib\\site-packages\\scipy\\optimize\\__init__.py:415\u001b[0m\n\u001b[0;32m    413\u001b[0m \u001b[38;5;28;01mfrom\u001b[39;00m \u001b[38;5;21;01m.\u001b[39;00m\u001b[38;5;21;01m_optimize\u001b[39;00m \u001b[38;5;28;01mimport\u001b[39;00m \u001b[38;5;241m*\u001b[39m\n\u001b[0;32m    414\u001b[0m \u001b[38;5;28;01mfrom\u001b[39;00m \u001b[38;5;21;01m.\u001b[39;00m\u001b[38;5;21;01m_minimize\u001b[39;00m \u001b[38;5;28;01mimport\u001b[39;00m \u001b[38;5;241m*\u001b[39m\n\u001b[1;32m--> 415\u001b[0m \u001b[38;5;28;01mfrom\u001b[39;00m \u001b[38;5;21;01m.\u001b[39;00m\u001b[38;5;21;01m_root\u001b[39;00m \u001b[38;5;28;01mimport\u001b[39;00m \u001b[38;5;241m*\u001b[39m\n\u001b[0;32m    416\u001b[0m \u001b[38;5;28;01mfrom\u001b[39;00m \u001b[38;5;21;01m.\u001b[39;00m\u001b[38;5;21;01m_root_scalar\u001b[39;00m \u001b[38;5;28;01mimport\u001b[39;00m \u001b[38;5;241m*\u001b[39m\n\u001b[0;32m    417\u001b[0m \u001b[38;5;28;01mfrom\u001b[39;00m \u001b[38;5;21;01m.\u001b[39;00m\u001b[38;5;21;01m_minpack_py\u001b[39;00m \u001b[38;5;28;01mimport\u001b[39;00m \u001b[38;5;241m*\u001b[39m\n",
      "File \u001b[1;32mc:\\Users\\Vieri\\AppData\\Local\\Programs\\Python\\Python312\\Lib\\site-packages\\scipy\\optimize\\_root.py:15\u001b[0m\n\u001b[0;32m     12\u001b[0m \u001b[38;5;28;01mfrom\u001b[39;00m \u001b[38;5;21;01mwarnings\u001b[39;00m \u001b[38;5;28;01mimport\u001b[39;00m warn\n\u001b[0;32m     14\u001b[0m \u001b[38;5;28;01mfrom\u001b[39;00m \u001b[38;5;21;01m.\u001b[39;00m\u001b[38;5;21;01m_optimize\u001b[39;00m \u001b[38;5;28;01mimport\u001b[39;00m MemoizeJac, OptimizeResult, _check_unknown_options\n\u001b[1;32m---> 15\u001b[0m \u001b[38;5;28;01mfrom\u001b[39;00m \u001b[38;5;21;01m.\u001b[39;00m\u001b[38;5;21;01m_minpack_py\u001b[39;00m \u001b[38;5;28;01mimport\u001b[39;00m _root_hybr, leastsq\n\u001b[0;32m     16\u001b[0m \u001b[38;5;28;01mfrom\u001b[39;00m \u001b[38;5;21;01m.\u001b[39;00m\u001b[38;5;21;01m_spectral\u001b[39;00m \u001b[38;5;28;01mimport\u001b[39;00m _root_df_sane\n\u001b[0;32m     17\u001b[0m \u001b[38;5;28;01mfrom\u001b[39;00m \u001b[38;5;21;01m.\u001b[39;00m \u001b[38;5;28;01mimport\u001b[39;00m _nonlin \u001b[38;5;28;01mas\u001b[39;00m nonlin\n",
      "File \u001b[1;32mc:\\Users\\Vieri\\AppData\\Local\\Programs\\Python\\Python312\\Lib\\site-packages\\scipy\\optimize\\_minpack_py.py:13\u001b[0m\n\u001b[0;32m     11\u001b[0m \u001b[38;5;28;01mfrom\u001b[39;00m \u001b[38;5;21;01mscipy\u001b[39;00m\u001b[38;5;21;01m.\u001b[39;00m\u001b[38;5;21;01m_lib\u001b[39;00m\u001b[38;5;21;01m.\u001b[39;00m\u001b[38;5;21;01m_util\u001b[39;00m \u001b[38;5;28;01mimport\u001b[39;00m getfullargspec_no_self \u001b[38;5;28;01mas\u001b[39;00m _getfullargspec\n\u001b[0;32m     12\u001b[0m \u001b[38;5;28;01mfrom\u001b[39;00m \u001b[38;5;21;01m.\u001b[39;00m\u001b[38;5;21;01m_optimize\u001b[39;00m \u001b[38;5;28;01mimport\u001b[39;00m OptimizeResult, _check_unknown_options, OptimizeWarning\n\u001b[1;32m---> 13\u001b[0m \u001b[38;5;28;01mfrom\u001b[39;00m \u001b[38;5;21;01m.\u001b[39;00m\u001b[38;5;21;01m_lsq\u001b[39;00m \u001b[38;5;28;01mimport\u001b[39;00m least_squares\n\u001b[0;32m     14\u001b[0m \u001b[38;5;66;03m# from ._lsq.common import make_strictly_feasible\u001b[39;00m\n\u001b[0;32m     15\u001b[0m \u001b[38;5;28;01mfrom\u001b[39;00m \u001b[38;5;21;01m.\u001b[39;00m\u001b[38;5;21;01m_lsq\u001b[39;00m\u001b[38;5;21;01m.\u001b[39;00m\u001b[38;5;21;01mleast_squares\u001b[39;00m \u001b[38;5;28;01mimport\u001b[39;00m prepare_bounds\n",
      "File \u001b[1;32mc:\\Users\\Vieri\\AppData\\Local\\Programs\\Python\\Python312\\Lib\\site-packages\\scipy\\optimize\\_lsq\\__init__.py:3\u001b[0m\n\u001b[0;32m      1\u001b[0m \u001b[38;5;124;03m\"\"\"This module contains least-squares algorithms.\"\"\"\u001b[39;00m\n\u001b[0;32m      2\u001b[0m \u001b[38;5;28;01mfrom\u001b[39;00m \u001b[38;5;21;01m.\u001b[39;00m\u001b[38;5;21;01mleast_squares\u001b[39;00m \u001b[38;5;28;01mimport\u001b[39;00m least_squares\n\u001b[1;32m----> 3\u001b[0m \u001b[38;5;28;01mfrom\u001b[39;00m \u001b[38;5;21;01m.\u001b[39;00m\u001b[38;5;21;01mlsq_linear\u001b[39;00m \u001b[38;5;28;01mimport\u001b[39;00m lsq_linear\n\u001b[0;32m      5\u001b[0m __all__ \u001b[38;5;241m=\u001b[39m [\u001b[38;5;124m'\u001b[39m\u001b[38;5;124mleast_squares\u001b[39m\u001b[38;5;124m'\u001b[39m, \u001b[38;5;124m'\u001b[39m\u001b[38;5;124mlsq_linear\u001b[39m\u001b[38;5;124m'\u001b[39m]\n",
      "File \u001b[1;32mc:\\Users\\Vieri\\AppData\\Local\\Programs\\Python\\Python312\\Lib\\site-packages\\scipy\\optimize\\_lsq\\lsq_linear.py:11\u001b[0m\n\u001b[0;32m      9\u001b[0m \u001b[38;5;28;01mfrom\u001b[39;00m \u001b[38;5;21;01m.\u001b[39;00m\u001b[38;5;21;01mcommon\u001b[39;00m \u001b[38;5;28;01mimport\u001b[39;00m in_bounds, compute_grad\n\u001b[0;32m     10\u001b[0m \u001b[38;5;28;01mfrom\u001b[39;00m \u001b[38;5;21;01m.\u001b[39;00m\u001b[38;5;21;01mtrf_linear\u001b[39;00m \u001b[38;5;28;01mimport\u001b[39;00m trf_linear\n\u001b[1;32m---> 11\u001b[0m \u001b[38;5;28;01mfrom\u001b[39;00m \u001b[38;5;21;01m.\u001b[39;00m\u001b[38;5;21;01mbvls\u001b[39;00m \u001b[38;5;28;01mimport\u001b[39;00m bvls\n\u001b[0;32m     14\u001b[0m \u001b[38;5;28;01mdef\u001b[39;00m \u001b[38;5;21mprepare_bounds\u001b[39m(bounds, n):\n\u001b[0;32m     15\u001b[0m     \u001b[38;5;28;01mif\u001b[39;00m \u001b[38;5;28mlen\u001b[39m(bounds) \u001b[38;5;241m!=\u001b[39m \u001b[38;5;241m2\u001b[39m:\n",
      "File \u001b[1;32m<frozen importlib._bootstrap>:1360\u001b[0m, in \u001b[0;36m_find_and_load\u001b[1;34m(name, import_)\u001b[0m\n",
      "File \u001b[1;32m<frozen importlib._bootstrap>:1322\u001b[0m, in \u001b[0;36m_find_and_load_unlocked\u001b[1;34m(name, import_)\u001b[0m\n",
      "File \u001b[1;32m<frozen importlib._bootstrap>:1262\u001b[0m, in \u001b[0;36m_find_spec\u001b[1;34m(name, path, target)\u001b[0m\n",
      "File \u001b[1;32m<frozen importlib._bootstrap_external>:1528\u001b[0m, in \u001b[0;36mfind_spec\u001b[1;34m(cls, fullname, path, target)\u001b[0m\n",
      "File \u001b[1;32m<frozen importlib._bootstrap_external>:1502\u001b[0m, in \u001b[0;36m_get_spec\u001b[1;34m(cls, fullname, path, target)\u001b[0m\n",
      "File \u001b[1;32m<frozen importlib._bootstrap_external>:1634\u001b[0m, in \u001b[0;36mfind_spec\u001b[1;34m(self, fullname, target)\u001b[0m\n",
      "File \u001b[1;32m<frozen importlib._bootstrap_external>:161\u001b[0m, in \u001b[0;36m_path_isfile\u001b[1;34m(path)\u001b[0m\n",
      "File \u001b[1;32m<frozen importlib._bootstrap_external>:153\u001b[0m, in \u001b[0;36m_path_is_mode_type\u001b[1;34m(path, mode)\u001b[0m\n",
      "File \u001b[1;32m<frozen importlib._bootstrap_external>:147\u001b[0m, in \u001b[0;36m_path_stat\u001b[1;34m(path)\u001b[0m\n",
      "\u001b[1;31mKeyboardInterrupt\u001b[0m: "
     ]
    }
   ],
   "source": [
    "import pandas as pd\n",
    "from sklearn.tree import DecisionTreeClassifier\n",
    "from sklearn.model_selection import train_test_split\n",
    "from sklearn import metrics"
   ]
  },
  {
   "cell_type": "code",
   "execution_count": null,
   "metadata": {},
   "outputs": [],
   "source": [
    "df_train = pd.read_csv(\"../dataset/zoo.csv\")\n",
    "df_train = df_train[[\"animal_name\", \"hair\", \"feathers\", \"eggs\", \"milk\", \"airborne\", \"aquatic\", \"predator\", \"toothed\", \"backbone\", \"breathes\", \"venomous\", \"fins\", \"tail\", \"domestic\", \"catsize\"]]\n",
    "\n",
    "df_test = pd.read_csv(\"../dataset/zoo2.csv\")\n",
    "df_test = df_test[[\"animal_name\", \"hair\", \"feathers\", \"eggs\", \"milk\", \"airborne\", \"aquatic\", \"predator\", \"toothed\", \"backbone\", \"breathes\", \"venomous\", \"fins\", \"tail\", \"domestic\", \"catsize\"]]\n",
    "\n",
    "df_test2 = pd.read_csv(\"../dataset/zoo3.csv\")\n",
    "df_test2 = df_test2[[\"animal_name\", \"hair\", \"feathers\", \"eggs\", \"milk\", \"airborne\", \"aquatic\", \"predator\", \"toothed\", \"backbone\", \"breathes\", \"venomous\", \"fins\", \"tail\", \"domestic\", \"catsize\"]]"
   ]
  },
  {
   "cell_type": "code",
   "execution_count": null,
   "metadata": {},
   "outputs": [],
   "source": [
    "features = [\"hair\", \"feathers\", \"eggs\", \"milk\", \"airborne\", \"aquatic\", \"predator\", \"toothed\", \"backbone\", \"breathes\", \"venomous\", \"fins\", \"tail\", \"domestic\", \"catsize\"]\n",
    "X_train = df_train[features]\n",
    "y_train = df_train[[\"animal_name\"]]\n",
    "\n",
    "X_test = df_test[features]\n",
    "y_test = df_test[[\"animal_name\"]]\n",
    "\n",
    "X_test2 = df_test2[features]\n",
    "y_test2 = df_test2[[\"animal_name\"]]\n"
   ]
  },
  {
   "cell_type": "code",
   "execution_count": null,
   "metadata": {},
   "outputs": [
    {
     "data": {
      "text/html": [
       "<div>\n",
       "<style scoped>\n",
       "    .dataframe tbody tr th:only-of-type {\n",
       "        vertical-align: middle;\n",
       "    }\n",
       "\n",
       "    .dataframe tbody tr th {\n",
       "        vertical-align: top;\n",
       "    }\n",
       "\n",
       "    .dataframe thead th {\n",
       "        text-align: right;\n",
       "    }\n",
       "</style>\n",
       "<table border=\"1\" class=\"dataframe\">\n",
       "  <thead>\n",
       "    <tr style=\"text-align: right;\">\n",
       "      <th></th>\n",
       "      <th>animal_name</th>\n",
       "      <th>hair</th>\n",
       "      <th>feathers</th>\n",
       "      <th>eggs</th>\n",
       "      <th>milk</th>\n",
       "      <th>airborne</th>\n",
       "      <th>aquatic</th>\n",
       "      <th>predator</th>\n",
       "      <th>toothed</th>\n",
       "      <th>backbone</th>\n",
       "      <th>breathes</th>\n",
       "      <th>venomous</th>\n",
       "      <th>fins</th>\n",
       "      <th>tail</th>\n",
       "      <th>domestic</th>\n",
       "      <th>catsize</th>\n",
       "    </tr>\n",
       "  </thead>\n",
       "  <tbody>\n",
       "    <tr>\n",
       "      <th>25</th>\n",
       "      <td>frog</td>\n",
       "      <td>0</td>\n",
       "      <td>0</td>\n",
       "      <td>1</td>\n",
       "      <td>0</td>\n",
       "      <td>0</td>\n",
       "      <td>1</td>\n",
       "      <td>1</td>\n",
       "      <td>1</td>\n",
       "      <td>1</td>\n",
       "      <td>1</td>\n",
       "      <td>0</td>\n",
       "      <td>0</td>\n",
       "      <td>0</td>\n",
       "      <td>0</td>\n",
       "      <td>0</td>\n",
       "    </tr>\n",
       "    <tr>\n",
       "      <th>26</th>\n",
       "      <td>frog</td>\n",
       "      <td>0</td>\n",
       "      <td>0</td>\n",
       "      <td>1</td>\n",
       "      <td>0</td>\n",
       "      <td>0</td>\n",
       "      <td>1</td>\n",
       "      <td>1</td>\n",
       "      <td>1</td>\n",
       "      <td>1</td>\n",
       "      <td>1</td>\n",
       "      <td>1</td>\n",
       "      <td>0</td>\n",
       "      <td>0</td>\n",
       "      <td>0</td>\n",
       "      <td>0</td>\n",
       "    </tr>\n",
       "  </tbody>\n",
       "</table>\n",
       "</div>"
      ],
      "text/plain": [
       "   animal_name  hair  feathers  eggs  milk  airborne  aquatic  predator  \\\n",
       "25        frog     0         0     1     0         0        1         1   \n",
       "26        frog     0         0     1     0         0        1         1   \n",
       "\n",
       "    toothed  backbone  breathes  venomous  fins  tail  domestic  catsize  \n",
       "25        1         1         1         0     0     0         0        0  \n",
       "26        1         1         1         1     0     0         0        0  "
      ]
     },
     "execution_count": 11,
     "metadata": {},
     "output_type": "execute_result"
    }
   ],
   "source": [
    "# show the not unique value\n",
    "df_train[df_train.duplicated(subset=[\"animal_name\"], keep=False)]"
   ]
  },
  {
   "cell_type": "code",
   "execution_count": null,
   "metadata": {},
   "outputs": [],
   "source": [
    "# X_train, X_test, y_train, y_test = train_test_split(X, y, test_size=0.3, random_state=1)"
   ]
  },
  {
   "cell_type": "code",
   "execution_count": null,
   "metadata": {},
   "outputs": [
    {
     "data": {
      "text/plain": [
       "((101, 15), (86, 15), (35, 15), (101, 1), (86, 1), (35, 1))"
      ]
     },
     "execution_count": 13,
     "metadata": {},
     "output_type": "execute_result"
    }
   ],
   "source": [
    "X_train.shape, X_test.shape, X_test2.shape, y_train.shape, y_test.shape, y_test2.shape"
   ]
  },
  {
   "cell_type": "code",
   "execution_count": null,
   "metadata": {},
   "outputs": [],
   "source": [
    "clf = DecisionTreeClassifier()\n",
    "clf = clf.fit(X_train, y_train)"
   ]
  },
  {
   "cell_type": "code",
   "execution_count": null,
   "metadata": {},
   "outputs": [
    {
     "data": {
      "text/plain": [
       "array(['aardvark', 'antelope', 'bass', 'aardvark', 'boar', 'antelope',\n",
       "       'calf', 'carp', 'bass', 'cavy', 'boar', 'chicken', 'bass', 'clam',\n",
       "       'crab', 'crab', 'crow', 'antelope', 'gull', 'haddock', 'hamster',\n",
       "       'hare', 'crow', 'bass', 'honeybee', 'housefly', 'kiwi', 'ladybird',\n",
       "       'lark', 'boar', 'boar', 'crab', 'boar', 'mink', 'mole', 'boar',\n",
       "       'housefly', 'newt', 'octopus', 'mole', 'antelope', 'ostrich',\n",
       "       'chicken', 'penguin', 'lark', 'dogfish', 'bass', 'pitviper',\n",
       "       'platypus', 'boar', 'calf', 'dolphin', 'boar', 'pussycat', 'boar',\n",
       "       'calf', 'rhea', 'scorpion', 'haddock', 'seal', 'sealion',\n",
       "       'seasnake', 'seawasp', 'gull', 'gull', 'slowworm', 'flea',\n",
       "       'haddock', 'lark', 'hare', 'crab', 'stingray', 'swan', 'flea',\n",
       "       'toad', 'tortoise', 'slowworm', 'dogfish', 'fruitbat', 'hare',\n",
       "       'vulture', 'antelope', 'wasp', 'boar', 'flea', 'lark'],\n",
       "      dtype=object)"
      ]
     },
     "execution_count": 15,
     "metadata": {},
     "output_type": "execute_result"
    }
   ],
   "source": [
    "y_pred = clf.predict(X_test)\n",
    "y_pred"
   ]
  },
  {
   "cell_type": "code",
   "execution_count": null,
   "metadata": {},
   "outputs": [
    {
     "data": {
      "text/plain": [
       "array(['dolphin', 'boar', 'pussycat', 'boar', 'calf', 'rhea', 'scorpion',\n",
       "       'haddock', 'seal', 'sealion', 'seasnake', 'seawasp', 'gull',\n",
       "       'gull', 'slowworm', 'flea', 'haddock', 'lark', 'hare', 'crab',\n",
       "       'stingray', 'swan', 'flea', 'toad', 'tortoise', 'slowworm',\n",
       "       'dogfish', 'fruitbat', 'hare', 'vulture', 'antelope', 'wasp',\n",
       "       'boar', 'flea', 'lark'], dtype=object)"
      ]
     },
     "execution_count": 16,
     "metadata": {},
     "output_type": "execute_result"
    }
   ],
   "source": [
    "clf.predict(X_test2)"
   ]
  },
  {
   "cell_type": "code",
   "execution_count": null,
   "metadata": {},
   "outputs": [
    {
     "name": "stdout",
     "output_type": "stream",
     "text": [
      "Accuracy: 0.4883720930232558\n"
     ]
    }
   ],
   "source": [
    "print(\"Accuracy:\", metrics.accuracy_score(y_test, y_pred))"
   ]
  },
  {
   "cell_type": "code",
   "execution_count": null,
   "metadata": {},
   "outputs": [
    {
     "name": "stdout",
     "output_type": "stream",
     "text": [
      ">> [None] -> human | Cornerstone: {}\n",
      "    T>> [{}] -> aardvark | Cornerstone: {'hair': 1, 'feathers': 0, 'eggs': 0, 'milk': 1, 'airborne': 0, 'aquatic': 0, 'predator': 1, 'toothed': 1, 'backbone': 1, 'breathes': 1, 'venomous': 0, 'fins': 0, 'tail': 0, 'domestic': 0, 'catsize': 1}\n",
      "        T>> [{'predator': 0, 'tail': 1}] -> antelope | Cornerstone: {'hair': 1, 'feathers': 0, 'eggs': 0, 'milk': 1, 'airborne': 0, 'aquatic': 0, 'predator': 0, 'toothed': 1, 'backbone': 1, 'breathes': 1, 'venomous': 0, 'fins': 0, 'tail': 1, 'domestic': 0, 'catsize': 1}\n",
      "            T>> [{'domestic': 1}] -> calf | Cornerstone: {'hair': 1, 'feathers': 0, 'eggs': 0, 'milk': 1, 'airborne': 0, 'aquatic': 0, 'predator': 0, 'toothed': 1, 'backbone': 1, 'breathes': 1, 'venomous': 0, 'fins': 0, 'tail': 1, 'domestic': 1, 'catsize': 1}\n",
      "                T>> [{'hair': 0, 'eggs': 1, 'milk': 0, 'aquatic': 1, 'breathes': 0, 'fins': 1, 'catsize': 0}] -> carp | Cornerstone: {'hair': 0, 'feathers': 0, 'eggs': 1, 'milk': 0, 'airborne': 0, 'aquatic': 1, 'predator': 0, 'toothed': 1, 'backbone': 1, 'breathes': 0, 'venomous': 0, 'fins': 1, 'tail': 1, 'domestic': 1, 'catsize': 0}\n",
      "                    F>> [{'hair': 0, 'feathers': 1, 'eggs': 1, 'milk': 0, 'airborne': 1, 'toothed': 0, 'catsize': 0}] -> chicken | Cornerstone: {'hair': 0, 'feathers': 1, 'eggs': 1, 'milk': 0, 'airborne': 1, 'aquatic': 0, 'predator': 0, 'toothed': 0, 'backbone': 1, 'breathes': 1, 'venomous': 0, 'fins': 0, 'tail': 1, 'domestic': 1, 'catsize': 0}\n",
      "                        F>> [{'catsize': 0}] -> hamster | Cornerstone: {'hair': 1, 'feathers': 0, 'eggs': 0, 'milk': 1, 'airborne': 0, 'aquatic': 0, 'predator': 0, 'toothed': 1, 'backbone': 1, 'breathes': 1, 'venomous': 0, 'fins': 0, 'tail': 1, 'domestic': 1, 'catsize': 0}\n",
      "                F>> [{'hair': 0, 'eggs': 1, 'milk': 0, 'aquatic': 1, 'breathes': 0, 'fins': 1, 'catsize': 0}] -> haddock | Cornerstone: {'hair': 0, 'feathers': 0, 'eggs': 1, 'milk': 0, 'airborne': 0, 'aquatic': 1, 'predator': 0, 'toothed': 1, 'backbone': 1, 'breathes': 0, 'venomous': 0, 'fins': 1, 'tail': 1, 'domestic': 0, 'catsize': 0}\n",
      "                    F>> [{'catsize': 0}] -> hare | Cornerstone: {'hair': 1, 'feathers': 0, 'eggs': 0, 'milk': 1, 'airborne': 0, 'aquatic': 0, 'predator': 0, 'toothed': 1, 'backbone': 1, 'breathes': 1, 'venomous': 0, 'fins': 0, 'tail': 1, 'domestic': 0, 'catsize': 0}\n",
      "                        T>> [{'hair': 0, 'feathers': 1, 'eggs': 1, 'milk': 0, 'airborne': 1, 'toothed': 0}] -> lark | Cornerstone: {'hair': 0, 'feathers': 1, 'eggs': 1, 'milk': 0, 'airborne': 1, 'aquatic': 0, 'predator': 0, 'toothed': 0, 'backbone': 1, 'breathes': 1, 'venomous': 0, 'fins': 0, 'tail': 1, 'domestic': 0, 'catsize': 0}\n",
      "                            F>> [{'airborne': 1}] -> fruitbat | Cornerstone: {'hair': 1, 'feathers': 0, 'eggs': 0, 'milk': 1, 'airborne': 1, 'aquatic': 0, 'predator': 0, 'toothed': 1, 'backbone': 1, 'breathes': 1, 'venomous': 0, 'fins': 0, 'tail': 1, 'domestic': 0, 'catsize': 0}\n",
      "                        F>> [{'hair': 0, 'feathers': 1, 'eggs': 1, 'milk': 0, 'toothed': 0}] -> ostrich | Cornerstone: {'hair': 0, 'feathers': 1, 'eggs': 1, 'milk': 0, 'airborne': 0, 'aquatic': 0, 'predator': 0, 'toothed': 0, 'backbone': 1, 'breathes': 1, 'venomous': 0, 'fins': 0, 'tail': 1, 'domestic': 0, 'catsize': 1}\n",
      "                            T>> [{'airborne': 1, 'aquatic': 1}] -> swan | Cornerstone: {'hair': 0, 'feathers': 1, 'eggs': 1, 'milk': 0, 'airborne': 1, 'aquatic': 1, 'predator': 0, 'toothed': 0, 'backbone': 1, 'breathes': 1, 'venomous': 0, 'fins': 0, 'tail': 1, 'domestic': 0, 'catsize': 1}\n",
      "                            F>> [{'hair': 0, 'eggs': 1, 'milk': 0, 'toothed': 0}] -> tortoise | Cornerstone: {'hair': 0, 'feathers': 0, 'eggs': 1, 'milk': 0, 'airborne': 0, 'aquatic': 0, 'predator': 0, 'toothed': 0, 'backbone': 1, 'breathes': 1, 'venomous': 0, 'fins': 0, 'tail': 1, 'domestic': 0, 'catsize': 1}\n",
      "            F>> [{'hair': 0, 'eggs': 1, 'milk': 0, 'aquatic': 1, 'breathes': 0, 'fins': 1, 'tail': 1, 'catsize': 0}] -> bass | Cornerstone: {'hair': 0, 'feathers': 0, 'eggs': 1, 'milk': 0, 'airborne': 0, 'aquatic': 1, 'predator': 1, 'toothed': 1, 'backbone': 1, 'breathes': 0, 'venomous': 0, 'fins': 1, 'tail': 1, 'domestic': 0, 'catsize': 0}\n",
      "                F>> [{'tail': 1}] -> boar | Cornerstone: {'hair': 1, 'feathers': 0, 'eggs': 0, 'milk': 1, 'airborne': 0, 'aquatic': 0, 'predator': 1, 'toothed': 1, 'backbone': 1, 'breathes': 1, 'venomous': 0, 'fins': 0, 'tail': 1, 'domestic': 0, 'catsize': 1}\n",
      "                    T>> [{'hair': 0, 'feathers': 1, 'eggs': 1, 'milk': 0, 'airborne': 1, 'toothed': 0, 'catsize': 0}] -> crow | Cornerstone: {'hair': 0, 'feathers': 1, 'eggs': 1, 'milk': 0, 'airborne': 1, 'aquatic': 0, 'predator': 1, 'toothed': 0, 'backbone': 1, 'breathes': 1, 'venomous': 0, 'fins': 0, 'tail': 1, 'domestic': 0, 'catsize': 0}\n",
      "                        T>> [{'aquatic': 1}] -> gull | Cornerstone: {'hair': 0, 'feathers': 1, 'eggs': 1, 'milk': 0, 'airborne': 1, 'aquatic': 1, 'predator': 1, 'toothed': 0, 'backbone': 1, 'breathes': 1, 'venomous': 0, 'fins': 0, 'tail': 1, 'domestic': 0, 'catsize': 0}\n",
      "                        F>> [{'hair': 0, 'feathers': 1, 'eggs': 1, 'milk': 0, 'toothed': 0, 'catsize': 0}] -> kiwi | Cornerstone: {'hair': 0, 'feathers': 1, 'eggs': 1, 'milk': 0, 'airborne': 0, 'aquatic': 0, 'predator': 1, 'toothed': 0, 'backbone': 1, 'breathes': 1, 'venomous': 0, 'fins': 0, 'tail': 1, 'domestic': 0, 'catsize': 0}\n",
      "                            F>> [{'aquatic': 1}] -> mink | Cornerstone: {'hair': 1, 'feathers': 0, 'eggs': 0, 'milk': 1, 'airborne': 0, 'aquatic': 1, 'predator': 1, 'toothed': 1, 'backbone': 1, 'breathes': 1, 'venomous': 0, 'fins': 0, 'tail': 1, 'domestic': 0, 'catsize': 1}\n",
      "                                T>> [{'hair': 0, 'eggs': 1, 'milk': 0, 'catsize': 0}] -> newt | Cornerstone: {'hair': 0, 'feathers': 0, 'eggs': 1, 'milk': 0, 'airborne': 0, 'aquatic': 1, 'predator': 1, 'toothed': 1, 'backbone': 1, 'breathes': 1, 'venomous': 0, 'fins': 0, 'tail': 1, 'domestic': 0, 'catsize': 0}\n",
      "                                    F>> [{'hair': 0, 'feathers': 1, 'eggs': 1, 'milk': 0, 'toothed': 0}] -> penguin | Cornerstone: {'hair': 0, 'feathers': 1, 'eggs': 1, 'milk': 0, 'airborne': 0, 'aquatic': 1, 'predator': 1, 'toothed': 0, 'backbone': 1, 'breathes': 1, 'venomous': 0, 'fins': 0, 'tail': 1, 'domestic': 0, 'catsize': 1}\n",
      "                                        F>> [{'hair': 0, 'eggs': 1, 'milk': 0, 'breathes': 0, 'fins': 1}] -> dogfish | Cornerstone: {'hair': 0, 'feathers': 0, 'eggs': 1, 'milk': 0, 'airborne': 0, 'aquatic': 1, 'predator': 1, 'toothed': 1, 'backbone': 1, 'breathes': 0, 'venomous': 0, 'fins': 1, 'tail': 1, 'domestic': 0, 'catsize': 1}\n",
      "                                            T>> [{'venomous': 1}] -> stingray | Cornerstone: {'hair': 0, 'feathers': 0, 'eggs': 1, 'milk': 0, 'airborne': 0, 'aquatic': 1, 'predator': 1, 'toothed': 1, 'backbone': 1, 'breathes': 0, 'venomous': 1, 'fins': 1, 'tail': 1, 'domestic': 0, 'catsize': 1}\n",
      "                                            F>> [{'eggs': 1, 'toothed': 0}] -> platypus | Cornerstone: {'hair': 1, 'feathers': 0, 'eggs': 1, 'milk': 1, 'airborne': 0, 'aquatic': 1, 'predator': 1, 'toothed': 0, 'backbone': 1, 'breathes': 1, 'venomous': 0, 'fins': 0, 'tail': 1, 'domestic': 0, 'catsize': 1}\n",
      "                                                F>> [{'hair': 0, 'fins': 1}] -> dolphin | Cornerstone: {'hair': 0, 'feathers': 0, 'eggs': 0, 'milk': 1, 'airborne': 0, 'aquatic': 1, 'predator': 1, 'toothed': 1, 'backbone': 1, 'breathes': 1, 'venomous': 0, 'fins': 1, 'tail': 1, 'domestic': 0, 'catsize': 1}\n",
      "                                                    F>> [{'fins': 1}] -> sealion | Cornerstone: {'hair': 1, 'feathers': 0, 'eggs': 0, 'milk': 1, 'airborne': 0, 'aquatic': 1, 'predator': 1, 'toothed': 1, 'backbone': 1, 'breathes': 1, 'venomous': 0, 'fins': 1, 'tail': 1, 'domestic': 0, 'catsize': 1}\n",
      "                                                        F>> [{'hair': 0, 'milk': 0, 'breathes': 0, 'venomous': 1, 'catsize': 0}] -> seasnake | Cornerstone: {'hair': 0, 'feathers': 0, 'eggs': 0, 'milk': 0, 'airborne': 0, 'aquatic': 1, 'predator': 1, 'toothed': 1, 'backbone': 1, 'breathes': 0, 'venomous': 1, 'fins': 0, 'tail': 1, 'domestic': 0, 'catsize': 0}\n",
      "                                F>> [{'catsize': 0}] -> mole | Cornerstone: {'hair': 1, 'feathers': 0, 'eggs': 0, 'milk': 1, 'airborne': 0, 'aquatic': 0, 'predator': 1, 'toothed': 1, 'backbone': 1, 'breathes': 1, 'venomous': 0, 'fins': 0, 'tail': 1, 'domestic': 0, 'catsize': 0}\n",
      "                                    T>> [{'hair': 0, 'eggs': 1, 'milk': 0, 'venomous': 1}] -> pitviper | Cornerstone: {'hair': 0, 'feathers': 0, 'eggs': 1, 'milk': 0, 'airborne': 0, 'aquatic': 0, 'predator': 1, 'toothed': 1, 'backbone': 1, 'breathes': 1, 'venomous': 1, 'fins': 0, 'tail': 1, 'domestic': 0, 'catsize': 0}\n",
      "                                        F>> [{'hair': 0, 'milk': 0, 'toothed': 0, 'backbone': 0, 'venomous': 1}] -> scorpion | Cornerstone: {'hair': 0, 'feathers': 0, 'eggs': 0, 'milk': 0, 'airborne': 0, 'aquatic': 0, 'predator': 1, 'toothed': 0, 'backbone': 0, 'breathes': 1, 'venomous': 1, 'fins': 0, 'tail': 1, 'domestic': 0, 'catsize': 0}\n",
      "                                            F>> [{'hair': 0, 'eggs': 1, 'milk': 0}] -> slowworm | Cornerstone: {'hair': 0, 'feathers': 0, 'eggs': 1, 'milk': 0, 'airborne': 0, 'aquatic': 0, 'predator': 1, 'toothed': 1, 'backbone': 1, 'breathes': 1, 'venomous': 0, 'fins': 0, 'tail': 1, 'domestic': 0, 'catsize': 0}\n",
      "                                    F>> [{'domestic': 1}] -> pussycat | Cornerstone: {'hair': 1, 'feathers': 0, 'eggs': 0, 'milk': 1, 'airborne': 0, 'aquatic': 0, 'predator': 1, 'toothed': 1, 'backbone': 1, 'breathes': 1, 'venomous': 0, 'fins': 0, 'tail': 1, 'domestic': 1, 'catsize': 1}\n",
      "                                        F>> [{'hair': 0, 'feathers': 1, 'eggs': 1, 'milk': 0, 'toothed': 0}] -> rhea | Cornerstone: {'hair': 0, 'feathers': 1, 'eggs': 1, 'milk': 0, 'airborne': 0, 'aquatic': 0, 'predator': 1, 'toothed': 0, 'backbone': 1, 'breathes': 1, 'venomous': 0, 'fins': 0, 'tail': 1, 'domestic': 0, 'catsize': 1}\n",
      "                                            T>> [{'airborne': 1}] -> vulture | Cornerstone: {'hair': 0, 'feathers': 1, 'eggs': 1, 'milk': 0, 'airborne': 1, 'aquatic': 0, 'predator': 1, 'toothed': 0, 'backbone': 1, 'breathes': 1, 'venomous': 0, 'fins': 0, 'tail': 1, 'domestic': 0, 'catsize': 1}\n",
      "                    F>> [{'predator': 0, 'domestic': 1, 'catsize': 0}] -> cavy | Cornerstone: {'hair': 1, 'feathers': 0, 'eggs': 0, 'milk': 1, 'airborne': 0, 'aquatic': 0, 'predator': 0, 'toothed': 1, 'backbone': 1, 'breathes': 1, 'venomous': 0, 'fins': 0, 'tail': 0, 'domestic': 1, 'catsize': 0}\n",
      "                        T>> [{'eggs': 1, 'milk': 0, 'airborne': 1, 'toothed': 0, 'backbone': 0, 'venomous': 1}] -> honeybee | Cornerstone: {'hair': 1, 'feathers': 0, 'eggs': 1, 'milk': 0, 'airborne': 1, 'aquatic': 0, 'predator': 0, 'toothed': 0, 'backbone': 0, 'breathes': 1, 'venomous': 1, 'fins': 0, 'tail': 0, 'domestic': 1, 'catsize': 0}\n",
      "                        F>> [{'hair': 0, 'eggs': 1, 'milk': 0, 'toothed': 0, 'backbone': 0, 'breathes': 0, 'catsize': 0}] -> clam | Cornerstone: {'hair': 0, 'feathers': 0, 'eggs': 1, 'milk': 0, 'airborne': 0, 'aquatic': 0, 'predator': 1, 'toothed': 0, 'backbone': 0, 'breathes': 0, 'venomous': 0, 'fins': 0, 'tail': 0, 'domestic': 0, 'catsize': 0}\n",
      "                            T>> [{'aquatic': 1}] -> crab | Cornerstone: {'hair': 0, 'feathers': 0, 'eggs': 1, 'milk': 0, 'airborne': 0, 'aquatic': 1, 'predator': 1, 'toothed': 0, 'backbone': 0, 'breathes': 0, 'venomous': 0, 'fins': 0, 'tail': 0, 'domestic': 0, 'catsize': 0}\n",
      "                                T>> [{'venomous': 1}] -> seawasp | Cornerstone: {'hair': 0, 'feathers': 0, 'eggs': 1, 'milk': 0, 'airborne': 0, 'aquatic': 1, 'predator': 1, 'toothed': 0, 'backbone': 0, 'breathes': 0, 'venomous': 1, 'fins': 0, 'tail': 0, 'domestic': 0, 'catsize': 0}\n",
      "                            F>> [{'eggs': 1, 'milk': 0, 'airborne': 1, 'predator': 0, 'toothed': 0, 'backbone': 0, 'catsize': 0}] -> housefly | Cornerstone: {'hair': 1, 'feathers': 0, 'eggs': 1, 'milk': 0, 'airborne': 1, 'aquatic': 0, 'predator': 0, 'toothed': 0, 'backbone': 0, 'breathes': 1, 'venomous': 0, 'fins': 0, 'tail': 0, 'domestic': 0, 'catsize': 0}\n",
      "                                T>> [{'venomous': 1}] -> wasp | Cornerstone: {'hair': 1, 'feathers': 0, 'eggs': 1, 'milk': 0, 'airborne': 1, 'aquatic': 0, 'predator': 0, 'toothed': 0, 'backbone': 0, 'breathes': 1, 'venomous': 1, 'fins': 0, 'tail': 0, 'domestic': 0, 'catsize': 0}\n",
      "                                F>> [{'hair': 0, 'eggs': 1, 'milk': 0, 'airborne': 1, 'toothed': 0, 'backbone': 0, 'catsize': 0}] -> ladybird | Cornerstone: {'hair': 0, 'feathers': 0, 'eggs': 1, 'milk': 0, 'airborne': 1, 'aquatic': 0, 'predator': 1, 'toothed': 0, 'backbone': 0, 'breathes': 1, 'venomous': 0, 'fins': 0, 'tail': 0, 'domestic': 0, 'catsize': 0}\n",
      "                                    F>> [{'hair': 0, 'eggs': 1, 'milk': 0, 'aquatic': 1, 'toothed': 0, 'backbone': 0, 'breathes': 0}] -> octopus | Cornerstone: {'hair': 0, 'feathers': 0, 'eggs': 1, 'milk': 0, 'airborne': 0, 'aquatic': 1, 'predator': 1, 'toothed': 0, 'backbone': 0, 'breathes': 0, 'venomous': 0, 'fins': 0, 'tail': 0, 'domestic': 0, 'catsize': 1}\n",
      "                                        F>> [{'aquatic': 1, 'fins': 1}] -> seal | Cornerstone: {'hair': 1, 'feathers': 0, 'eggs': 0, 'milk': 1, 'airborne': 0, 'aquatic': 1, 'predator': 1, 'toothed': 1, 'backbone': 1, 'breathes': 1, 'venomous': 0, 'fins': 1, 'tail': 0, 'domestic': 0, 'catsize': 1}\n",
      "                                            F>> [{'hair': 0, 'eggs': 1, 'milk': 0, 'predator': 0, 'toothed': 0, 'backbone': 0, 'catsize': 0}] -> flea | Cornerstone: {'hair': 0, 'feathers': 0, 'eggs': 1, 'milk': 0, 'airborne': 0, 'aquatic': 0, 'predator': 0, 'toothed': 0, 'backbone': 0, 'breathes': 1, 'venomous': 0, 'fins': 0, 'tail': 0, 'domestic': 0, 'catsize': 0}\n",
      "                                                F>> [{'hair': 0, 'eggs': 1, 'milk': 0, 'aquatic': 1, 'predator': 0, 'catsize': 0}] -> toad | Cornerstone: {'hair': 0, 'feathers': 0, 'eggs': 1, 'milk': 0, 'airborne': 0, 'aquatic': 1, 'predator': 0, 'toothed': 1, 'backbone': 1, 'breathes': 1, 'venomous': 0, 'fins': 0, 'tail': 0, 'domestic': 0, 'catsize': 0}\n",
      "\n"
     ]
    }
   ],
   "source": [
    "rdr = RDR(antecedent=\"human\", categorical_attr=features)\n",
    "rdr.fit(X_test, pd.DataFrame(y_pred))\n",
    "print(rdr)"
   ]
  },
  {
   "cell_type": "code",
   "execution_count": null,
   "metadata": {},
   "outputs": [
    {
     "data": {
      "text/plain": [
       "array(['aardvark', 'antelope', 'bass', 'aardvark', 'boar', 'antelope',\n",
       "       'calf', 'carp', 'bass', 'cavy', 'boar', 'chicken', 'bass', 'clam',\n",
       "       'crab', 'crab', 'crow', 'antelope', 'gull', 'haddock', 'hamster',\n",
       "       'hare', 'crow', 'bass', 'honeybee', 'housefly', 'kiwi', 'ladybird',\n",
       "       'lark', 'boar', 'boar', 'crab', 'boar', 'mink', 'mole', 'boar',\n",
       "       'housefly', 'newt', 'octopus', 'mole', 'antelope', 'ostrich',\n",
       "       'chicken', 'penguin', 'lark', 'dogfish', 'bass', 'pitviper',\n",
       "       'platypus', 'boar', 'calf', 'dolphin', 'boar', 'pussycat', 'boar',\n",
       "       'calf', 'rhea', 'scorpion', 'haddock', 'seal', 'sealion',\n",
       "       'seasnake', 'seawasp', 'gull', 'gull', 'slowworm', 'flea',\n",
       "       'haddock', 'lark', 'hare', 'crab', 'stingray', 'swan', 'flea',\n",
       "       'toad', 'tortoise', 'slowworm', 'dogfish', 'fruitbat', 'hare',\n",
       "       'vulture', 'antelope', 'wasp', 'boar', 'flea', 'lark'],\n",
       "      dtype='<U32')"
      ]
     },
     "execution_count": 19,
     "metadata": {},
     "output_type": "execute_result"
    }
   ],
   "source": [
    "# predict with RDR\n",
    "rdr_pred = rdr.predict(X_test)\n",
    "rdr_pred"
   ]
  },
  {
   "cell_type": "code",
   "execution_count": null,
   "metadata": {},
   "outputs": [
    {
     "data": {
      "text/plain": [
       "1.0"
      ]
     },
     "execution_count": 20,
     "metadata": {},
     "output_type": "execute_result"
    }
   ],
   "source": [
    "# check if y_pred and rdr.predict is the same\n",
    "metrics.accuracy_score(y_pred, rdr_pred)"
   ]
  },
  {
   "cell_type": "code",
   "execution_count": null,
   "metadata": {},
   "outputs": [
    {
     "data": {
      "text/plain": [
       "array(['dolphin', 'boar', 'pussycat', 'boar', 'calf', 'rhea', 'scorpion',\n",
       "       'haddock', 'seal', 'sealion', 'seasnake', 'seawasp', 'gull',\n",
       "       'gull', 'slowworm', 'flea', 'haddock', 'lark', 'hare', 'crab',\n",
       "       'stingray', 'swan', 'flea', 'toad', 'tortoise', 'slowworm',\n",
       "       'dogfish', 'fruitbat', 'hare', 'vulture', 'antelope', 'wasp',\n",
       "       'boar', 'flea', 'lark'], dtype='<U32')"
      ]
     },
     "execution_count": 21,
     "metadata": {},
     "output_type": "execute_result"
    }
   ],
   "source": [
    "rdr.predict(X_test2)"
   ]
  },
  {
   "cell_type": "code",
   "execution_count": null,
   "metadata": {},
   "outputs": [
    {
     "data": {
      "image/png": "[encoded data removed]",
      "text/plain": [
       "<Figure size 800x600 with 1 Axes>"
      ]
     },
     "metadata": {},
     "output_type": "display_data"
    },
    {
     "data": {
      "text/plain": [
       "('dolphin',\n",
       " {'hair': 0, 'fins': 1},\n",
       " {'hair': 0,\n",
       "  'feathers': 0,\n",
       "  'eggs': 0,\n",
       "  'milk': 1,\n",
       "  'airborne': 0,\n",
       "  'aquatic': 1,\n",
       "  'predator': 1,\n",
       "  'toothed': 1,\n",
       "  'backbone': 1,\n",
       "  'breathes': 1,\n",
       "  'venomous': 0,\n",
       "  'fins': 1,\n",
       "  'tail': 1,\n",
       "  'domestic': 0,\n",
       "  'catsize': 1})"
      ]
     },
     "execution_count": 22,
     "metadata": {},
     "output_type": "execute_result"
    }
   ],
   "source": [
    "rdr.explain_instance(X_test2.iloc[0])"
   ]
  }
 ],
 "metadata": {
  "kernelspec": {
   "display_name": "Python 3",
   "language": "python",
   "name": "python3"
  },
  "language_info": {
   "codemirror_mode": {
    "name": "ipython",
    "version": 3
   },
   "file_extension": ".py",
   "mimetype": "text/x-python",
   "name": "python",
   "nbconvert_exporter": "python",
   "pygments_lexer": "ipython3",
   "version": "3.12.3"
  }
 },
 "nbformat": 4,
 "nbformat_minor": 2
}
