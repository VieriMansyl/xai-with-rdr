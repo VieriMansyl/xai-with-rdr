{
 "cells": [
  {
   "cell_type": "markdown",
   "metadata": {},
   "source": [
    "# Testing phase - Star Classification.csv"
   ]
  },
  {
   "cell_type": "code",
   "execution_count": 18,
   "metadata": {},
   "outputs": [],
   "source": [
    "import sys\n",
    "sys.path.append('../src/')\n",
    "from rdr import RDR"
   ]
  },
  {
   "cell_type": "code",
   "execution_count": 19,
   "metadata": {},
   "outputs": [],
   "source": [
    "import pandas as pd\n",
    "import numpy as np\n",
    "from sklearn.preprocessing import LabelEncoder\n",
    "from sklearn.model_selection import train_test_split\n",
    "from sklearn import metrics\n",
    "\n",
    "pd.options.display.max_columns = None\n",
    "pd.options.display.max_rows = None"
   ]
  },
  {
   "cell_type": "markdown",
   "metadata": {},
   "source": [
    "## Import Model Libraries\n",
    "White box Model :\n",
    "- Decision Tree Classifier\n",
    "\n",
    "Black box Model :\n",
    "- Random Forest\n",
    "- Support Vector Machine\n",
    "- XGBoost\n",
    "- MLP\n",
    "- TabNet"
   ]
  },
  {
   "cell_type": "code",
   "execution_count": 20,
   "metadata": {},
   "outputs": [],
   "source": [
    "from sklearn.tree import DecisionTreeClassifier\n",
    "from sklearn.ensemble import RandomForestClassifier\n",
    "from sklearn.svm import SVC\n",
    "import xgboost as xgb\n",
    "from sklearn.neural_network import MLPClassifier\n",
    "from pytorch_tabnet.tab_model import TabNetClassifier"
   ]
  },
  {
   "cell_type": "markdown",
   "metadata": {},
   "source": [
    "## 1. Load dataset"
   ]
  },
  {
   "cell_type": "code",
   "execution_count": 21,
   "metadata": {},
   "outputs": [
    {
     "data": {
      "text/html": [
       "<div>\n",
       "<style scoped>\n",
       "    .dataframe tbody tr th:only-of-type {\n",
       "        vertical-align: middle;\n",
       "    }\n",
       "\n",
       "    .dataframe tbody tr th {\n",
       "        vertical-align: top;\n",
       "    }\n",
       "\n",
       "    .dataframe thead th {\n",
       "        text-align: right;\n",
       "    }\n",
       "</style>\n",
       "<table border=\"1\" class=\"dataframe\">\n",
       "  <thead>\n",
       "    <tr style=\"text-align: right;\">\n",
       "      <th></th>\n",
       "      <th>obj_ID</th>\n",
       "      <th>alpha</th>\n",
       "      <th>delta</th>\n",
       "      <th>u</th>\n",
       "      <th>g</th>\n",
       "      <th>r</th>\n",
       "      <th>i</th>\n",
       "      <th>z</th>\n",
       "      <th>run_ID</th>\n",
       "      <th>rerun_ID</th>\n",
       "      <th>cam_col</th>\n",
       "      <th>field_ID</th>\n",
       "      <th>spec_obj_ID</th>\n",
       "      <th>class</th>\n",
       "      <th>redshift</th>\n",
       "      <th>plate</th>\n",
       "      <th>MJD</th>\n",
       "      <th>fiber_ID</th>\n",
       "    </tr>\n",
       "  </thead>\n",
       "  <tbody>\n",
       "    <tr>\n",
       "      <th>0</th>\n",
       "      <td>1.237660961327743e+18</td>\n",
       "      <td>135.689106603600010</td>\n",
       "      <td>32.494631839708703</td>\n",
       "      <td>23.878820000000001</td>\n",
       "      <td>22.275300000000001</td>\n",
       "      <td>20.395009999999999</td>\n",
       "      <td>19.165730000000000</td>\n",
       "      <td>18.793710000000001</td>\n",
       "      <td>3606</td>\n",
       "      <td>301</td>\n",
       "      <td>2</td>\n",
       "      <td>79</td>\n",
       "      <td>6.543777369295182e+18</td>\n",
       "      <td>GALAXY</td>\n",
       "      <td>0.6347936</td>\n",
       "      <td>5812</td>\n",
       "      <td>56354</td>\n",
       "      <td>171</td>\n",
       "    </tr>\n",
       "    <tr>\n",
       "      <th>1</th>\n",
       "      <td>1.237664879951151e+18</td>\n",
       "      <td>144.826100550256001</td>\n",
       "      <td>31.274184894493899</td>\n",
       "      <td>24.777590000000000</td>\n",
       "      <td>22.831880000000002</td>\n",
       "      <td>22.584440000000001</td>\n",
       "      <td>21.168119999999998</td>\n",
       "      <td>21.614270000000001</td>\n",
       "      <td>4518</td>\n",
       "      <td>301</td>\n",
       "      <td>5</td>\n",
       "      <td>119</td>\n",
       "      <td>1.176014203670733e+19</td>\n",
       "      <td>GALAXY</td>\n",
       "      <td>0.7791360</td>\n",
       "      <td>10445</td>\n",
       "      <td>58158</td>\n",
       "      <td>427</td>\n",
       "    </tr>\n",
       "    <tr>\n",
       "      <th>2</th>\n",
       "      <td>1.237660961330430e+18</td>\n",
       "      <td>142.188789562506003</td>\n",
       "      <td>35.582444181997602</td>\n",
       "      <td>25.263069999999999</td>\n",
       "      <td>22.663889999999999</td>\n",
       "      <td>20.609760000000001</td>\n",
       "      <td>19.348569999999999</td>\n",
       "      <td>18.948270000000001</td>\n",
       "      <td>3606</td>\n",
       "      <td>301</td>\n",
       "      <td>2</td>\n",
       "      <td>120</td>\n",
       "      <td>5.152200256025549e+18</td>\n",
       "      <td>GALAXY</td>\n",
       "      <td>0.6441945</td>\n",
       "      <td>4576</td>\n",
       "      <td>55592</td>\n",
       "      <td>299</td>\n",
       "    </tr>\n",
       "    <tr>\n",
       "      <th>3</th>\n",
       "      <td>1.237663478724298e+18</td>\n",
       "      <td>338.741037753145974</td>\n",
       "      <td>-0.402827574587482</td>\n",
       "      <td>22.136820000000000</td>\n",
       "      <td>23.776560000000000</td>\n",
       "      <td>21.611619999999998</td>\n",
       "      <td>20.504539999999999</td>\n",
       "      <td>19.250100000000000</td>\n",
       "      <td>4192</td>\n",
       "      <td>301</td>\n",
       "      <td>3</td>\n",
       "      <td>214</td>\n",
       "      <td>1.030107141295442e+19</td>\n",
       "      <td>GALAXY</td>\n",
       "      <td>0.9323456</td>\n",
       "      <td>9149</td>\n",
       "      <td>58039</td>\n",
       "      <td>775</td>\n",
       "    </tr>\n",
       "    <tr>\n",
       "      <th>4</th>\n",
       "      <td>1.237680272041378e+18</td>\n",
       "      <td>345.282593210934976</td>\n",
       "      <td>21.183865601028401</td>\n",
       "      <td>19.437180000000001</td>\n",
       "      <td>17.580279999999998</td>\n",
       "      <td>16.497470000000000</td>\n",
       "      <td>15.977110000000000</td>\n",
       "      <td>15.544610000000000</td>\n",
       "      <td>8102</td>\n",
       "      <td>301</td>\n",
       "      <td>3</td>\n",
       "      <td>137</td>\n",
       "      <td>6.891864880783317e+18</td>\n",
       "      <td>GALAXY</td>\n",
       "      <td>0.1161227</td>\n",
       "      <td>6121</td>\n",
       "      <td>56187</td>\n",
       "      <td>842</td>\n",
       "    </tr>\n",
       "  </tbody>\n",
       "</table>\n",
       "</div>"
      ],
      "text/plain": [
       "                  obj_ID                alpha               delta  \\\n",
       "0  1.237660961327743e+18  135.689106603600010  32.494631839708703   \n",
       "1  1.237664879951151e+18  144.826100550256001  31.274184894493899   \n",
       "2  1.237660961330430e+18  142.188789562506003  35.582444181997602   \n",
       "3  1.237663478724298e+18  338.741037753145974  -0.402827574587482   \n",
       "4  1.237680272041378e+18  345.282593210934976  21.183865601028401   \n",
       "\n",
       "                    u                   g                   r  \\\n",
       "0  23.878820000000001  22.275300000000001  20.395009999999999   \n",
       "1  24.777590000000000  22.831880000000002  22.584440000000001   \n",
       "2  25.263069999999999  22.663889999999999  20.609760000000001   \n",
       "3  22.136820000000000  23.776560000000000  21.611619999999998   \n",
       "4  19.437180000000001  17.580279999999998  16.497470000000000   \n",
       "\n",
       "                    i                   z  run_ID  rerun_ID  cam_col  \\\n",
       "0  19.165730000000000  18.793710000000001    3606       301        2   \n",
       "1  21.168119999999998  21.614270000000001    4518       301        5   \n",
       "2  19.348569999999999  18.948270000000001    3606       301        2   \n",
       "3  20.504539999999999  19.250100000000000    4192       301        3   \n",
       "4  15.977110000000000  15.544610000000000    8102       301        3   \n",
       "\n",
       "   field_ID            spec_obj_ID   class   redshift  plate    MJD  fiber_ID  \n",
       "0        79  6.543777369295182e+18  GALAXY  0.6347936   5812  56354       171  \n",
       "1       119  1.176014203670733e+19  GALAXY  0.7791360  10445  58158       427  \n",
       "2       120  5.152200256025549e+18  GALAXY  0.6441945   4576  55592       299  \n",
       "3       214  1.030107141295442e+19  GALAXY  0.9323456   9149  58039       775  \n",
       "4       137  6.891864880783317e+18  GALAXY  0.1161227   6121  56187       842  "
      ]
     },
     "metadata": {},
     "output_type": "display_data"
    },
    {
     "data": {
      "text/plain": [
       "obj_ID         0\n",
       "alpha          0\n",
       "delta          0\n",
       "u              0\n",
       "g              0\n",
       "r              0\n",
       "i              0\n",
       "z              0\n",
       "run_ID         0\n",
       "rerun_ID       0\n",
       "cam_col        0\n",
       "field_ID       0\n",
       "spec_obj_ID    0\n",
       "class          0\n",
       "redshift       0\n",
       "plate          0\n",
       "MJD            0\n",
       "fiber_ID       0\n",
       "dtype: int64"
      ]
     },
     "metadata": {},
     "output_type": "display_data"
    },
    {
     "data": {
      "text/plain": [
       "(100000, 18)"
      ]
     },
     "metadata": {},
     "output_type": "display_data"
    }
   ],
   "source": [
    "df = pd.read_csv('../data/star_classification.csv')\n",
    "display(df.head())\n",
    "display(df.isnull().sum())\n",
    "# df = df.dropna()\n",
    "display(df.shape)\n",
    "\n",
    "# df = df.sample(20000, random_state=42)"
   ]
  },
  {
   "cell_type": "code",
   "execution_count": 22,
   "metadata": {},
   "outputs": [],
   "source": [
    "label = df['class']\n",
    "features = df.drop(columns=['obj_ID', 'class', 'spec_obj_ID'], axis=1)\n",
    "le = LabelEncoder()\n",
    "le.fit(label)\n",
    "X_train, X_test, y_train, y_test = train_test_split(features, label, test_size=0.2, random_state=42)"
   ]
  },
  {
   "cell_type": "markdown",
   "metadata": {},
   "source": [
    "## 2. Comparison between conventional models with RDR model"
   ]
  },
  {
   "cell_type": "markdown",
   "metadata": {},
   "source": [
    "### 2.0. Create RDR base model"
   ]
  },
  {
   "cell_type": "code",
   "execution_count": 23,
   "metadata": {},
   "outputs": [],
   "source": [
    "rdr = RDR(\n",
    "        antecedent='GALAXY',\n",
    "        categorical_attr=['run_ID','rerun_ID','cam_col','field_ID','plate','fiber_ID'],\n",
    "        comp_operator='>=')"
   ]
  },
  {
   "cell_type": "markdown",
   "metadata": {},
   "source": [
    "### 2.1. Decision Tree vs RDR"
   ]
  },
  {
   "cell_type": "code",
   "execution_count": 24,
   "metadata": {},
   "outputs": [],
   "source": [
    "# CREATE AND TRAIN DECISION TREE CLASSIFIER\n",
    "dtf = DecisionTreeClassifier()\n",
    "dtf.fit(X_train, y_train)\n",
    "\n",
    "# CREATE PREDICTION DATASET - USING ALL DATA IN DATASET\n",
    "prediction_dataset = dtf.predict(features)"
   ]
  },
  {
   "cell_type": "code",
   "execution_count": 25,
   "metadata": {},
   "outputs": [
    {
     "name": "stdout",
     "output_type": "stream",
     "text": [
      "0.9631\n",
      "0.8521\n",
      "0.8717\n"
     ]
    }
   ],
   "source": [
    "# CREATE AND TRAIN RDR MODEL\n",
    "dtf_rdr = rdr.fit(features, pd.DataFrame(prediction_dataset))\n",
    "\n",
    "# # PREDICT USING DECISION TREE AND RDR\n",
    "dtf_pred = dtf.predict(X_test)\n",
    "dtf_rdr_pred = dtf_rdr.predict(X_test)\n",
    "\n",
    "print(metrics.accuracy_score(y_test,dtf_pred))\n",
    "print(metrics.accuracy_score(y_test, dtf_rdr_pred))\n",
    "print(metrics.accuracy_score(dtf_pred, dtf_rdr_pred))"
   ]
  },
  {
   "cell_type": "markdown",
   "metadata": {},
   "source": [
    "### 2.2. Random Forest vs RDR"
   ]
  },
  {
   "cell_type": "code",
   "execution_count": 26,
   "metadata": {},
   "outputs": [],
   "source": [
    "# CREATE AND TRAIN RANDOM FOREST CLASSIFIER\n",
    "rf = RandomForestClassifier()\n",
    "rf.fit(X_train, y_train)\n",
    "\n",
    "# CREATE PREDICTION DATASET - USING ALL DATA IN DATASET\n",
    "prediction_dataset = rf.predict(features)"
   ]
  },
  {
   "cell_type": "code",
   "execution_count": 27,
   "metadata": {},
   "outputs": [
    {
     "name": "stdout",
     "output_type": "stream",
     "text": [
      "0.9772\n",
      "0.94805\n",
      "0.96895\n"
     ]
    }
   ],
   "source": [
    "# CREATE AND TRAIN RDR MODEL\n",
    "rf_rdr = rdr.fit(features, pd.DataFrame(prediction_dataset))\n",
    "\n",
    "# PREDICT USING DECISION TREE AND RDR\n",
    "rf_pred = rf.predict(X_test)\n",
    "rf_rdr_pred = rf_rdr.predict(X_test)\n",
    "\n",
    "print(metrics.accuracy_score(y_test,rf_pred))\n",
    "print(metrics.accuracy_score(y_test, rf_rdr_pred))\n",
    "print(metrics.accuracy_score(rf_pred, rf_rdr_pred))"
   ]
  },
  {
   "cell_type": "markdown",
   "metadata": {},
   "source": [
    "### 2.3. SVM vs RDR"
   ]
  },
  {
   "cell_type": "code",
   "execution_count": 28,
   "metadata": {},
   "outputs": [],
   "source": [
    "# CREATE AND TRAIN SUPPORT VECTOR MACHINE\n",
    "svm = SVC()\n",
    "svm.fit(X_train, y_train)\n",
    "\n",
    "# CREATE PREDICTION DATASET - USING ALL DATA IN DATASET\n",
    "prediction_dataset = svm.predict(features)"
   ]
  },
  {
   "cell_type": "code",
   "execution_count": 29,
   "metadata": {},
   "outputs": [
    {
     "name": "stdout",
     "output_type": "stream",
     "text": [
      "0.593\n",
      "0.593\n",
      "1.0\n"
     ]
    }
   ],
   "source": [
    "# CREATE AND TRAIN RDR MODEL\n",
    "svm_rdr = rdr.fit(features, pd.DataFrame(prediction_dataset))\n",
    "\n",
    "# PREDICT USING DECISION TREE AND RDR\n",
    "svm_pred = svm.predict(X_test)\n",
    "svm_rdr_pred = svm_rdr.predict(X_test)\n",
    "\n",
    "print(metrics.accuracy_score(y_test,svm_pred))\n",
    "print(metrics.accuracy_score(y_test, svm_rdr_pred))\n",
    "print(metrics.accuracy_score(svm_pred, svm_rdr_pred))"
   ]
  },
  {
   "cell_type": "markdown",
   "metadata": {},
   "source": [
    "### 2.4. XGBoost vs RDR"
   ]
  },
  {
   "cell_type": "code",
   "execution_count": 30,
   "metadata": {},
   "outputs": [],
   "source": [
    "# CREATE AND TRAIN XGBOOST CLASSIFIER\n",
    "train_dmatrix = xgb.DMatrix(data=X_train, label=le.transform(y_train))\n",
    "xgboost = xgb.train({}, train_dmatrix)\n",
    "\n",
    "dmatrix = xgb.DMatrix(data=features, label=le.transform(label))\n",
    "xgb_pred = xgboost.predict(dmatrix)\n",
    "\n",
    "# CREATE PREDICTION DATASET - USING ALL DATA IN DATASET\n",
    "prediction_dataset = le.inverse_transform(np.round(xgb_pred).astype(int))"
   ]
  },
  {
   "cell_type": "code",
   "execution_count": 31,
   "metadata": {},
   "outputs": [
    {
     "name": "stdout",
     "output_type": "stream",
     "text": [
      "0.96935\n",
      "0.9639\n",
      "0.9923\n"
     ]
    }
   ],
   "source": [
    "# CREATE AND TRAIN RDR MODEL\n",
    "xgb_rdr = rdr.fit(features, pd.DataFrame(prediction_dataset))\n",
    "\n",
    "# PREDICT USING DECISION TREE AND RDR\n",
    "dmatrix = xgb.DMatrix(data=X_test, label=le.transform(y_test))\n",
    "xgb_pred = xgboost.predict(dmatrix)\n",
    "xgb_pred = le.inverse_transform(np.round(xgb_pred).astype(int))\n",
    "\n",
    "xgb_rdr_pred = xgb_rdr.predict(X_test)\n",
    "\n",
    "print(metrics.accuracy_score(y_test,xgb_pred))\n",
    "print(metrics.accuracy_score(y_test, xgb_rdr_pred))\n",
    "print(metrics.accuracy_score(xgb_pred, xgb_rdr_pred))"
   ]
  },
  {
   "cell_type": "markdown",
   "metadata": {},
   "source": [
    "### 2.5. MLP vs RDR"
   ]
  },
  {
   "cell_type": "code",
   "execution_count": 32,
   "metadata": {},
   "outputs": [],
   "source": [
    "# CREATE AND TRAIN MLP CLASSIFIER\n",
    "mlp = MLPClassifier(max_iter=100, batch_size=5, hidden_layer_sizes=(10, 15, 30), learning_rate='constant', learning_rate_init=0.1)\n",
    "mlp.fit(X_train, y_train)\n",
    "\n",
    "# CREATE PREDICTION DATASET - USING ALL DATA IN DATASET\n",
    "prediction_dataset = mlp.predict(features)"
   ]
  },
  {
   "cell_type": "code",
   "execution_count": 33,
   "metadata": {},
   "outputs": [
    {
     "name": "stdout",
     "output_type": "stream",
     "text": [
      "0.593\n",
      "0.593\n",
      "1.0\n"
     ]
    }
   ],
   "source": [
    "# CREATE AND TRAIN RDR MODEL\n",
    "mlp_rdr = rdr.fit(features, pd.DataFrame(prediction_dataset))\n",
    "\n",
    "# PREDICT - MLP AND RDR\n",
    "mlp_pred = mlp.predict(X_test)\n",
    "mlp_rdr_pred = mlp_rdr.predict(X_test)\n",
    "\n",
    "print(metrics.accuracy_score(y_test,mlp_pred))\n",
    "print(metrics.accuracy_score(y_test, mlp_rdr_pred))\n",
    "print(metrics.accuracy_score(mlp_pred, mlp_rdr_pred))"
   ]
  },
  {
   "cell_type": "markdown",
   "metadata": {},
   "source": [
    "### 2.6. TabNet vs RDR"
   ]
  },
  {
   "cell_type": "code",
   "execution_count": 34,
   "metadata": {},
   "outputs": [
    {
     "name": "stderr",
     "output_type": "stream",
     "text": [
      "c:\\Users\\Vieri\\AppData\\Local\\Programs\\Python\\Python312\\Lib\\site-packages\\pytorch_tabnet\\abstract_model.py:82: UserWarning: Device used : cpu\n",
      "  warnings.warn(f\"Device used : {self.device}\")\n",
      "c:\\Users\\Vieri\\AppData\\Local\\Programs\\Python\\Python312\\Lib\\site-packages\\pytorch_tabnet\\abstract_model.py:687: UserWarning: No early stopping will be performed, last training weights will be used.\n",
      "  warnings.warn(wrn_msg)\n"
     ]
    },
    {
     "name": "stdout",
     "output_type": "stream",
     "text": [
      "epoch 0  | loss: 0.63079 |  0:00:06s\n",
      "epoch 1  | loss: 0.16416 |  0:00:14s\n",
      "epoch 2  | loss: 0.13044 |  0:00:23s\n",
      "epoch 3  | loss: 0.12433 |  0:00:31s\n",
      "epoch 4  | loss: 0.11531 |  0:00:37s\n",
      "epoch 5  | loss: 0.11613 |  0:00:43s\n",
      "epoch 6  | loss: 0.11389 |  0:00:49s\n",
      "epoch 7  | loss: 0.10829 |  0:00:54s\n",
      "epoch 8  | loss: 0.10638 |  0:00:59s\n",
      "epoch 9  | loss: 0.10367 |  0:01:04s\n",
      "epoch 10 | loss: 0.10189 |  0:01:09s\n",
      "epoch 11 | loss: 0.10101 |  0:01:14s\n",
      "epoch 12 | loss: 0.10089 |  0:01:18s\n",
      "epoch 13 | loss: 0.10098 |  0:01:23s\n",
      "epoch 14 | loss: 0.09818 |  0:01:28s\n",
      "epoch 15 | loss: 0.10353 |  0:01:32s\n",
      "epoch 16 | loss: 0.1001  |  0:01:37s\n",
      "epoch 17 | loss: 0.0979  |  0:01:42s\n",
      "epoch 18 | loss: 0.09776 |  0:01:46s\n",
      "epoch 19 | loss: 0.09753 |  0:01:52s\n",
      "epoch 20 | loss: 0.09664 |  0:01:57s\n",
      "epoch 21 | loss: 0.09761 |  0:02:01s\n",
      "epoch 22 | loss: 0.09591 |  0:02:06s\n",
      "epoch 23 | loss: 0.0949  |  0:02:12s\n",
      "epoch 24 | loss: 0.09545 |  0:02:18s\n",
      "epoch 25 | loss: 0.0935  |  0:02:23s\n",
      "epoch 26 | loss: 0.0945  |  0:02:28s\n",
      "epoch 27 | loss: 0.09483 |  0:02:32s\n",
      "epoch 28 | loss: 0.09431 |  0:02:37s\n",
      "epoch 29 | loss: 0.09388 |  0:02:42s\n",
      "epoch 30 | loss: 0.09319 |  0:02:47s\n",
      "epoch 31 | loss: 0.09274 |  0:02:51s\n",
      "epoch 32 | loss: 0.09571 |  0:02:56s\n",
      "epoch 33 | loss: 0.09374 |  0:03:01s\n",
      "epoch 34 | loss: 0.09391 |  0:03:06s\n",
      "epoch 35 | loss: 0.09265 |  0:03:12s\n",
      "epoch 36 | loss: 0.09281 |  0:03:17s\n",
      "epoch 37 | loss: 0.09256 |  0:03:22s\n",
      "epoch 38 | loss: 0.09398 |  0:03:27s\n",
      "epoch 39 | loss: 0.09239 |  0:03:32s\n",
      "epoch 40 | loss: 0.09196 |  0:03:37s\n",
      "epoch 41 | loss: 0.0904  |  0:03:42s\n",
      "epoch 42 | loss: 0.09192 |  0:03:47s\n",
      "epoch 43 | loss: 0.08963 |  0:03:52s\n",
      "epoch 44 | loss: 0.09007 |  0:03:57s\n",
      "epoch 45 | loss: 0.08991 |  0:04:01s\n",
      "epoch 46 | loss: 0.09007 |  0:04:06s\n",
      "epoch 47 | loss: 0.0898  |  0:04:11s\n",
      "epoch 48 | loss: 0.08934 |  0:04:16s\n",
      "epoch 49 | loss: 0.08919 |  0:04:21s\n",
      "epoch 50 | loss: 0.08968 |  0:04:26s\n",
      "epoch 51 | loss: 0.08953 |  0:04:31s\n",
      "epoch 52 | loss: 0.08751 |  0:04:35s\n",
      "epoch 53 | loss: 0.08718 |  0:04:40s\n",
      "epoch 54 | loss: 0.08837 |  0:04:46s\n",
      "epoch 55 | loss: 0.08711 |  0:04:50s\n",
      "epoch 56 | loss: 0.08672 |  0:04:55s\n",
      "epoch 57 | loss: 0.0866  |  0:05:00s\n",
      "epoch 58 | loss: 0.08819 |  0:05:05s\n",
      "epoch 59 | loss: 0.08734 |  0:05:10s\n",
      "epoch 60 | loss: 0.08755 |  0:05:15s\n",
      "epoch 61 | loss: 0.08649 |  0:05:19s\n",
      "epoch 62 | loss: 0.08742 |  0:05:24s\n",
      "epoch 63 | loss: 0.08699 |  0:05:29s\n",
      "epoch 64 | loss: 0.08571 |  0:05:34s\n",
      "epoch 65 | loss: 0.08657 |  0:05:39s\n",
      "epoch 66 | loss: 0.08615 |  0:05:43s\n",
      "epoch 67 | loss: 0.08596 |  0:05:48s\n",
      "epoch 68 | loss: 0.08516 |  0:05:53s\n",
      "epoch 69 | loss: 0.08575 |  0:05:58s\n",
      "epoch 70 | loss: 0.08515 |  0:06:03s\n",
      "epoch 71 | loss: 0.08524 |  0:06:07s\n",
      "epoch 72 | loss: 0.0842  |  0:06:13s\n",
      "epoch 73 | loss: 0.0851  |  0:06:17s\n",
      "epoch 74 | loss: 0.08335 |  0:06:22s\n",
      "epoch 75 | loss: 0.09457 |  0:06:27s\n",
      "epoch 76 | loss: 0.08773 |  0:06:32s\n",
      "epoch 77 | loss: 0.08572 |  0:06:37s\n",
      "epoch 78 | loss: 0.08495 |  0:06:41s\n",
      "epoch 79 | loss: 0.08505 |  0:06:46s\n",
      "epoch 80 | loss: 0.08394 |  0:06:51s\n",
      "epoch 81 | loss: 0.08484 |  0:06:56s\n",
      "epoch 82 | loss: 0.08401 |  0:07:01s\n",
      "epoch 83 | loss: 0.08621 |  0:07:06s\n",
      "epoch 84 | loss: 0.08408 |  0:07:10s\n",
      "epoch 85 | loss: 0.08395 |  0:07:16s\n",
      "epoch 86 | loss: 0.08314 |  0:07:21s\n",
      "epoch 87 | loss: 0.08309 |  0:07:26s\n",
      "epoch 88 | loss: 0.08256 |  0:07:31s\n",
      "epoch 89 | loss: 0.08439 |  0:07:36s\n",
      "epoch 90 | loss: 0.08332 |  0:07:41s\n",
      "epoch 91 | loss: 0.0832  |  0:07:46s\n",
      "epoch 92 | loss: 0.0846  |  0:07:51s\n",
      "epoch 93 | loss: 0.08235 |  0:07:56s\n",
      "epoch 94 | loss: 0.08142 |  0:08:01s\n",
      "epoch 95 | loss: 0.08158 |  0:08:06s\n",
      "epoch 96 | loss: 0.08172 |  0:08:11s\n",
      "epoch 97 | loss: 0.08222 |  0:08:15s\n",
      "epoch 98 | loss: 0.08241 |  0:08:20s\n",
      "epoch 99 | loss: 0.08127 |  0:08:25s\n"
     ]
    }
   ],
   "source": [
    "# CREATE AND TRAIN TabNet Classifier\n",
    "tabnet = TabNetClassifier()\n",
    "tabnet.fit(X_train.values, y_train, max_epochs=100)\n",
    "\n",
    "# CREATE PREDICTION DATASET - USING ALL DATA IN DATASET\n",
    "prediction_dataset = tabnet.predict(features.values)"
   ]
  },
  {
   "cell_type": "code",
   "execution_count": 35,
   "metadata": {},
   "outputs": [
    {
     "name": "stdout",
     "output_type": "stream",
     "text": [
      "0.655\n",
      "0.6495\n",
      "0.967\n"
     ]
    }
   ],
   "source": [
    "# CREATE AND TRAIN RDR MODEL\n",
    "tabnet_rdr = rdr.fit(features, pd.DataFrame(prediction_dataset))\n",
    "\n",
    "# PREDICT - TabNet AND RDR\n",
    "tabnet_pred = tabnet.predict(X_test.values)\n",
    "tabnet_rdr_pred = tabnet_rdr.predict(X_test)\n",
    "\n",
    "print(metrics.accuracy_score(y_test,tabnet_pred))\n",
    "print(metrics.accuracy_score(y_test, tabnet_rdr_pred))\n",
    "print(metrics.accuracy_score(tabnet_pred, tabnet_rdr_pred))"
   ]
  },
  {
   "cell_type": "markdown",
   "metadata": {},
   "source": [
    "## 5. Accuracy Comparison between RDR model and conventional models"
   ]
  },
  {
   "cell_type": "code",
   "execution_count": 36,
   "metadata": {},
   "outputs": [
    {
     "data": {
      "text/html": [
       "<div>\n",
       "<style scoped>\n",
       "    .dataframe tbody tr th:only-of-type {\n",
       "        vertical-align: middle;\n",
       "    }\n",
       "\n",
       "    .dataframe tbody tr th {\n",
       "        vertical-align: top;\n",
       "    }\n",
       "\n",
       "    .dataframe thead th {\n",
       "        text-align: right;\n",
       "    }\n",
       "</style>\n",
       "<table border=\"1\" class=\"dataframe\">\n",
       "  <thead>\n",
       "    <tr style=\"text-align: right;\">\n",
       "      <th></th>\n",
       "      <th>Model</th>\n",
       "      <th>Accuracy</th>\n",
       "      <th>RDR Accuracy</th>\n",
       "      <th>Difference</th>\n",
       "    </tr>\n",
       "  </thead>\n",
       "  <tbody>\n",
       "    <tr>\n",
       "      <th>0</th>\n",
       "      <td>Decision Tree</td>\n",
       "      <td>0.96310</td>\n",
       "      <td>0.85210</td>\n",
       "      <td>0.87170</td>\n",
       "    </tr>\n",
       "    <tr>\n",
       "      <th>1</th>\n",
       "      <td>Random Forest</td>\n",
       "      <td>0.97720</td>\n",
       "      <td>0.94805</td>\n",
       "      <td>0.96895</td>\n",
       "    </tr>\n",
       "    <tr>\n",
       "      <th>2</th>\n",
       "      <td>XGBoost</td>\n",
       "      <td>0.96935</td>\n",
       "      <td>0.96390</td>\n",
       "      <td>0.99230</td>\n",
       "    </tr>\n",
       "    <tr>\n",
       "      <th>3</th>\n",
       "      <td>Support Vector Machine</td>\n",
       "      <td>0.59300</td>\n",
       "      <td>0.59300</td>\n",
       "      <td>1.00000</td>\n",
       "    </tr>\n",
       "    <tr>\n",
       "      <th>4</th>\n",
       "      <td>Multi-layer Perceptron</td>\n",
       "      <td>0.59300</td>\n",
       "      <td>0.59300</td>\n",
       "      <td>1.00000</td>\n",
       "    </tr>\n",
       "    <tr>\n",
       "      <th>5</th>\n",
       "      <td>TabNet</td>\n",
       "      <td>0.65500</td>\n",
       "      <td>0.64950</td>\n",
       "      <td>0.96700</td>\n",
       "    </tr>\n",
       "  </tbody>\n",
       "</table>\n",
       "</div>"
      ],
      "text/plain": [
       "                    Model  Accuracy  RDR Accuracy  Difference\n",
       "0           Decision Tree   0.96310       0.85210     0.87170\n",
       "1           Random Forest   0.97720       0.94805     0.96895\n",
       "2                 XGBoost   0.96935       0.96390     0.99230\n",
       "3  Support Vector Machine   0.59300       0.59300     1.00000\n",
       "4  Multi-layer Perceptron   0.59300       0.59300     1.00000\n",
       "5                  TabNet   0.65500       0.64950     0.96700"
      ]
     },
     "metadata": {},
     "output_type": "display_data"
    }
   ],
   "source": [
    "dtf_accuracy = metrics.accuracy_score(y_test,dtf_pred)\n",
    "rf_accuracy = metrics.accuracy_score(y_test,rf_pred)\n",
    "xgb_accuracy = metrics.accuracy_score(y_test,xgb_pred)\n",
    "svm_accuracy = metrics.accuracy_score(y_test,svm_pred)\n",
    "mlp_accuracy = metrics.accuracy_score(y_test,mlp_pred)\n",
    "tabnet_accuracy = metrics.accuracy_score(y_test,tabnet_pred)\n",
    "\n",
    "dtf_rdr_accuracy = metrics.accuracy_score(y_test, dtf_rdr_pred)\n",
    "rf_rdr_accuracy = metrics.accuracy_score(y_test, rf_rdr_pred)\n",
    "xgb_rdr_accuracy = metrics.accuracy_score(y_test, xgb_rdr_pred)\n",
    "svm_rdr_accuracy = metrics.accuracy_score(y_test, svm_rdr_pred)\n",
    "mlp_rdr_accuracy = metrics.accuracy_score(y_test, mlp_rdr_pred)\n",
    "tabnet_rdr_accuracy = metrics.accuracy_score(y_test, tabnet_rdr_pred)\n",
    "\n",
    "accuracy_table = []\n",
    "accuracy_table.append([\n",
    "    \"Decision Tree\",\n",
    "    dtf_accuracy,\n",
    "    dtf_rdr_accuracy,\n",
    "    metrics.accuracy_score(dtf_pred, dtf_rdr_pred)\n",
    "])\n",
    "\n",
    "accuracy_table.append([\n",
    "    \"Random Forest\",\n",
    "    rf_accuracy,\n",
    "    rf_rdr_accuracy,\n",
    "    metrics.accuracy_score(rf_pred, rf_rdr_pred)\n",
    "])\n",
    "\n",
    "accuracy_table.append([\n",
    "    \"XGBoost\",\n",
    "    xgb_accuracy,\n",
    "    xgb_rdr_accuracy,\n",
    "    metrics.accuracy_score(xgb_pred, xgb_rdr_pred)\n",
    "])\n",
    "\n",
    "accuracy_table.append([\n",
    "    \"Support Vector Machine\",\n",
    "    svm_accuracy,\n",
    "    svm_rdr_accuracy,\n",
    "    metrics.accuracy_score(svm_pred, svm_rdr_pred)\n",
    "])\n",
    "\n",
    "accuracy_table.append([\n",
    "    \"Multi-layer Perceptron\",\n",
    "    mlp_accuracy,\n",
    "    mlp_rdr_accuracy,\n",
    "    metrics.accuracy_score(mlp_pred, mlp_rdr_pred)\n",
    "])\n",
    "\n",
    "accuracy_table.append([\n",
    "    \"TabNet\",\n",
    "    tabnet_accuracy,\n",
    "    tabnet_rdr_accuracy,\n",
    "    metrics.accuracy_score(tabnet_pred, tabnet_rdr_pred)\n",
    "])\n",
    "\n",
    "accuracy_table = pd.DataFrame(accuracy_table, columns=[\"Model\", \"Accuracy\", \"RDR Accuracy\", \"Difference\"])\n",
    "pd.set_option('display.precision', 15)\n",
    "\n",
    "display(accuracy_table)"
   ]
  }
 ],
 "metadata": {
  "kernelspec": {
   "display_name": "Python 3",
   "language": "python",
   "name": "python3"
  },
  "language_info": {
   "codemirror_mode": {
    "name": "ipython",
    "version": 3
   },
   "file_extension": ".py",
   "mimetype": "text/x-python",
   "name": "python",
   "nbconvert_exporter": "python",
   "pygments_lexer": "ipython3",
   "version": "3.12.3"
  }
 },
 "nbformat": 4,
 "nbformat_minor": 2
}
