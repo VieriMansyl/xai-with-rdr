{
 "cells": [
  {
   "cell_type": "markdown",
   "metadata": {},
   "source": [
    "# Testing phase - Gender Classification.csv"
   ]
  },
  {
   "cell_type": "code",
   "execution_count": 142,
   "metadata": {},
   "outputs": [],
   "source": [
    "import sys\n",
    "sys.path.append('../src/')\n",
    "from rdr import RDR"
   ]
  },
  {
   "cell_type": "code",
   "execution_count": 143,
   "metadata": {},
   "outputs": [],
   "source": [
    "import pandas as pd\n",
    "import numpy as np\n",
    "from sklearn.preprocessing import LabelEncoder\n",
    "from sklearn.model_selection import train_test_split\n",
    "from sklearn import metrics\n",
    "\n",
    "pd.options.display.max_columns = None\n",
    "pd.options.display.max_rows = None"
   ]
  },
  {
   "cell_type": "markdown",
   "metadata": {},
   "source": [
    "## Import Model Libraries\n",
    "White box Model :\n",
    "- Decision Tree Classifier\n",
    "\n",
    "Black box Model :\n",
    "- Random Forest\n",
    "- Support Vector Machine\n",
    "- XGBoost\n",
    "- MLP\n",
    "- TabNet"
   ]
  },
  {
   "cell_type": "code",
   "execution_count": 144,
   "metadata": {},
   "outputs": [],
   "source": [
    "from sklearn.tree import DecisionTreeClassifier\n",
    "from sklearn.ensemble import RandomForestClassifier\n",
    "from sklearn.svm import SVC\n",
    "import xgboost as xgb\n",
    "from sklearn.neural_network import MLPClassifier\n",
    "from pytorch_tabnet.tab_model import TabNetClassifier"
   ]
  },
  {
   "cell_type": "markdown",
   "metadata": {},
   "source": [
    "## 1. Load dataset"
   ]
  },
  {
   "cell_type": "code",
   "execution_count": 145,
   "metadata": {},
   "outputs": [
    {
     "data": {
      "text/html": [
       "<div>\n",
       "<style scoped>\n",
       "    .dataframe tbody tr th:only-of-type {\n",
       "        vertical-align: middle;\n",
       "    }\n",
       "\n",
       "    .dataframe tbody tr th {\n",
       "        vertical-align: top;\n",
       "    }\n",
       "\n",
       "    .dataframe thead th {\n",
       "        text-align: right;\n",
       "    }\n",
       "</style>\n",
       "<table border=\"1\" class=\"dataframe\">\n",
       "  <thead>\n",
       "    <tr style=\"text-align: right;\">\n",
       "      <th></th>\n",
       "      <th>long_hair</th>\n",
       "      <th>forehead_width_cm</th>\n",
       "      <th>forehead_height_cm</th>\n",
       "      <th>nose_wide</th>\n",
       "      <th>nose_long</th>\n",
       "      <th>lips_thin</th>\n",
       "      <th>distance_nose_to_lip_long</th>\n",
       "      <th>gender</th>\n",
       "    </tr>\n",
       "  </thead>\n",
       "  <tbody>\n",
       "    <tr>\n",
       "      <th>0</th>\n",
       "      <td>1</td>\n",
       "      <td>11.800000000000001</td>\n",
       "      <td>6.1</td>\n",
       "      <td>1</td>\n",
       "      <td>0</td>\n",
       "      <td>1</td>\n",
       "      <td>1</td>\n",
       "      <td>Male</td>\n",
       "    </tr>\n",
       "    <tr>\n",
       "      <th>1</th>\n",
       "      <td>0</td>\n",
       "      <td>14.000000000000000</td>\n",
       "      <td>5.4</td>\n",
       "      <td>0</td>\n",
       "      <td>0</td>\n",
       "      <td>1</td>\n",
       "      <td>0</td>\n",
       "      <td>Female</td>\n",
       "    </tr>\n",
       "    <tr>\n",
       "      <th>2</th>\n",
       "      <td>0</td>\n",
       "      <td>11.800000000000001</td>\n",
       "      <td>6.3</td>\n",
       "      <td>1</td>\n",
       "      <td>1</td>\n",
       "      <td>1</td>\n",
       "      <td>1</td>\n",
       "      <td>Male</td>\n",
       "    </tr>\n",
       "    <tr>\n",
       "      <th>3</th>\n",
       "      <td>0</td>\n",
       "      <td>14.400000000000000</td>\n",
       "      <td>6.1</td>\n",
       "      <td>0</td>\n",
       "      <td>1</td>\n",
       "      <td>1</td>\n",
       "      <td>1</td>\n",
       "      <td>Male</td>\n",
       "    </tr>\n",
       "    <tr>\n",
       "      <th>4</th>\n",
       "      <td>1</td>\n",
       "      <td>13.500000000000000</td>\n",
       "      <td>5.9</td>\n",
       "      <td>0</td>\n",
       "      <td>0</td>\n",
       "      <td>0</td>\n",
       "      <td>0</td>\n",
       "      <td>Female</td>\n",
       "    </tr>\n",
       "  </tbody>\n",
       "</table>\n",
       "</div>"
      ],
      "text/plain": [
       "   long_hair   forehead_width_cm  forehead_height_cm  nose_wide  nose_long  \\\n",
       "0          1  11.800000000000001                 6.1          1          0   \n",
       "1          0  14.000000000000000                 5.4          0          0   \n",
       "2          0  11.800000000000001                 6.3          1          1   \n",
       "3          0  14.400000000000000                 6.1          0          1   \n",
       "4          1  13.500000000000000                 5.9          0          0   \n",
       "\n",
       "   lips_thin  distance_nose_to_lip_long  gender  \n",
       "0          1                          1    Male  \n",
       "1          1                          0  Female  \n",
       "2          1                          1    Male  \n",
       "3          1                          1    Male  \n",
       "4          0                          0  Female  "
      ]
     },
     "metadata": {},
     "output_type": "display_data"
    },
    {
     "data": {
      "text/plain": [
       "long_hair                    0\n",
       "forehead_width_cm            0\n",
       "forehead_height_cm           0\n",
       "nose_wide                    0\n",
       "nose_long                    0\n",
       "lips_thin                    0\n",
       "distance_nose_to_lip_long    0\n",
       "gender                       0\n",
       "dtype: int64"
      ]
     },
     "metadata": {},
     "output_type": "display_data"
    }
   ],
   "source": [
    "df = pd.read_csv('../data/gender_classification.csv')\n",
    "display(df.head())\n",
    "display(df.isnull().sum())"
   ]
  },
  {
   "cell_type": "code",
   "execution_count": 146,
   "metadata": {},
   "outputs": [],
   "source": [
    "label = df['gender']\n",
    "features = df.drop('gender', axis=1)\n",
    "\n",
    "le = LabelEncoder()\n",
    "le.fit(label)\n",
    "X_train, X_test, y_train, y_test = train_test_split(features, label, test_size=0.2, random_state=42)"
   ]
  },
  {
   "cell_type": "markdown",
   "metadata": {},
   "source": [
    "## 2. Comparison between conventional models with RDR model"
   ]
  },
  {
   "cell_type": "markdown",
   "metadata": {},
   "source": [
    "### 2.0. Create RDR base model"
   ]
  },
  {
   "cell_type": "code",
   "execution_count": 147,
   "metadata": {},
   "outputs": [],
   "source": [
    "rdr = RDR(\n",
    "        antecedent=\"Male\",\n",
    "        categorical_attr=['long_hair','nose_wide','nose_long','lips_thin','distance_nose_to_lip_long'],\n",
    "        total_precedent=1)"
   ]
  },
  {
   "cell_type": "markdown",
   "metadata": {},
   "source": [
    "### 2.1. Decision Tree vs RDR"
   ]
  },
  {
   "cell_type": "code",
   "execution_count": 148,
   "metadata": {},
   "outputs": [],
   "source": [
    "# CREATE AND TRAIN DECISION TREE CLASSIFIER\n",
    "dtf = DecisionTreeClassifier()\n",
    "dtf.fit(X_train, y_train)\n",
    "\n",
    "# CREATE PREDICTION DATASET - USING ALL DATA IN DATASET\n",
    "prediction_dataset = dtf.predict(features)"
   ]
  },
  {
   "cell_type": "code",
   "execution_count": 149,
   "metadata": {},
   "outputs": [
    {
     "name": "stdout",
     "output_type": "stream",
     "text": [
      "0.9530469530469531\n",
      "0.919080919080919\n",
      "0.9440559440559441\n"
     ]
    }
   ],
   "source": [
    "# CREATE AND TRAIN RDR MODEL\n",
    "dtf_rdr = rdr.fit(features, pd.DataFrame(prediction_dataset))\n",
    "\n",
    "# PREDICT - DECISION TREE AND RDR\n",
    "dtf_pred = dtf.predict(X_test)\n",
    "dtf_rdr_pred = dtf_rdr.predict(X_test)\n",
    "\n",
    "print(metrics.accuracy_score(y_test,dtf_pred))\n",
    "print(metrics.accuracy_score(y_test, dtf_rdr_pred))\n",
    "print(metrics.accuracy_score(dtf_pred, dtf_rdr_pred))"
   ]
  },
  {
   "cell_type": "markdown",
   "metadata": {},
   "source": [
    "### 2.2. Random Forest vs RDR"
   ]
  },
  {
   "cell_type": "code",
   "execution_count": 150,
   "metadata": {},
   "outputs": [],
   "source": [
    "# CREATE AND TRAIN Random Forest CLASSIFIER\n",
    "rf = RandomForestClassifier()\n",
    "rf.fit(X_train, y_train)\n",
    "\n",
    "# CREATE PREDICTION DATASET - USING ALL DATA IN DATASET\n",
    "prediction_dataset = rf.predict(features)"
   ]
  },
  {
   "cell_type": "code",
   "execution_count": 151,
   "metadata": {},
   "outputs": [
    {
     "name": "stdout",
     "output_type": "stream",
     "text": [
      "0.9600399600399601\n",
      "0.9590409590409591\n",
      "0.995004995004995\n"
     ]
    }
   ],
   "source": [
    "# CREATE AND TRAIN RDR MODEL\n",
    "rf_rdr = rdr.fit(features, pd.DataFrame(prediction_dataset))\n",
    "\n",
    "# PREDICT - Random Forest AND RDR\n",
    "rf_pred = rf.predict(X_test)\n",
    "rf_rdr_pred = rf_rdr.predict(X_test)\n",
    "\n",
    "print(metrics.accuracy_score(y_test,rf_pred))\n",
    "print(metrics.accuracy_score(y_test, rf_rdr_pred))\n",
    "print(metrics.accuracy_score(rf_pred, rf_rdr_pred))"
   ]
  },
  {
   "cell_type": "markdown",
   "metadata": {},
   "source": [
    "### 2.3. SVM vs RDR"
   ]
  },
  {
   "cell_type": "code",
   "execution_count": 152,
   "metadata": {},
   "outputs": [],
   "source": [
    "# CREATE AND TRAIN SUPPORT VECTOR MACHINE\n",
    "svm = SVC()\n",
    "svm.fit(X_train, y_train)\n",
    "\n",
    "# CREATE PREDICTION DATASET - USING ALL DATA IN DATASET\n",
    "prediction_dataset = svm.predict(features)"
   ]
  },
  {
   "cell_type": "code",
   "execution_count": 153,
   "metadata": {},
   "outputs": [
    {
     "name": "stdout",
     "output_type": "stream",
     "text": [
      "0.9630369630369631\n",
      "0.962037962037962\n",
      "0.999000999000999\n"
     ]
    }
   ],
   "source": [
    "# CREATE AND TRAIN RDR MODEL\n",
    "svm_rdr = rdr.fit(features, pd.DataFrame(prediction_dataset))\n",
    "\n",
    "# PREDICT - SVM AND RDR\n",
    "svm_pred = svm.predict(X_test)\n",
    "svm_rdr_pred = svm_rdr.predict(X_test)\n",
    "\n",
    "print(metrics.accuracy_score(y_test,svm_pred))\n",
    "print(metrics.accuracy_score(y_test, svm_rdr_pred))\n",
    "print(metrics.accuracy_score(svm_pred, svm_rdr_pred))"
   ]
  },
  {
   "cell_type": "markdown",
   "metadata": {},
   "source": [
    "### 2.4. XGBoost vs RDR"
   ]
  },
  {
   "cell_type": "code",
   "execution_count": 154,
   "metadata": {},
   "outputs": [],
   "source": [
    "# CREATE AND TRAIN XGBoost Classifier\n",
    "train_dmatrix = xgb.DMatrix(data=X_train, label=le.transform(y_train))\n",
    "xgboost = xgb.train({}, train_dmatrix)\n",
    "\n",
    "dmatrix = xgb.DMatrix(data=features, label=le.transform(label))\n",
    "xgb_pred = xgboost.predict(dmatrix)\n",
    "\n",
    "# CREATE PREDICTION DATASET - USING ALL DATA IN DATASET\n",
    "prediction_dataset = le.inverse_transform(np.round(xgb_pred).astype(int))"
   ]
  },
  {
   "cell_type": "code",
   "execution_count": 155,
   "metadata": {},
   "outputs": [
    {
     "name": "stdout",
     "output_type": "stream",
     "text": [
      "0.965034965034965\n",
      "0.965034965034965\n",
      "1.0\n"
     ]
    }
   ],
   "source": [
    "# CREATE AND TRAIN RDR MODEL\n",
    "xgb_rdr = rdr.fit(features, pd.DataFrame(prediction_dataset))\n",
    "\n",
    "# PREDICT - XGBoost AND RDR\n",
    "dmatrix = xgb.DMatrix(data=X_test, label=le.transform(y_test))\n",
    "xgb_pred = xgboost.predict(dmatrix)\n",
    "xgb_pred = le.inverse_transform(np.round(xgb_pred).astype(int))\n",
    "\n",
    "xgb_rdr_pred = xgb_rdr.predict(X_test)\n",
    "\n",
    "print(metrics.accuracy_score(y_test,xgb_pred))\n",
    "print(metrics.accuracy_score(y_test, xgb_rdr_pred))\n",
    "print(metrics.accuracy_score(xgb_pred, xgb_rdr_pred))"
   ]
  },
  {
   "cell_type": "markdown",
   "metadata": {},
   "source": [
    "### 2.5. MLP vs RDR"
   ]
  },
  {
   "cell_type": "code",
   "execution_count": 156,
   "metadata": {},
   "outputs": [],
   "source": [
    "# CREATE AND TRAIN MLP CLASSIFIER\n",
    "mlp = MLPClassifier(max_iter=100, batch_size=5, hidden_layer_sizes=(10, 15, 30), learning_rate='constant', learning_rate_init=0.1)\n",
    "mlp.fit(X_train, y_train)\n",
    "\n",
    "# CREATE PREDICTION DATASET - USING ALL DATA IN DATASET\n",
    "prediction_dataset = mlp.predict(features)"
   ]
  },
  {
   "cell_type": "code",
   "execution_count": 157,
   "metadata": {},
   "outputs": [
    {
     "name": "stdout",
     "output_type": "stream",
     "text": [
      "0.4985014985014985\n",
      "0.4985014985014985\n",
      "1.0\n"
     ]
    }
   ],
   "source": [
    "# CREATE AND TRAIN RDR MODEL\n",
    "mlp_rdr = rdr.fit(features, pd.DataFrame(prediction_dataset))\n",
    "\n",
    "# PREDICT - MLP AND RDR\n",
    "mlp_pred = mlp.predict(X_test)\n",
    "mlp_rdr_pred = mlp_rdr.predict(X_test)\n",
    "\n",
    "print(metrics.accuracy_score(y_test,mlp_pred))\n",
    "print(metrics.accuracy_score(y_test, mlp_rdr_pred))\n",
    "print(metrics.accuracy_score(mlp_pred, mlp_rdr_pred))"
   ]
  },
  {
   "cell_type": "markdown",
   "metadata": {},
   "source": [
    "### 2.6. TabNet vs RDR"
   ]
  },
  {
   "cell_type": "code",
   "execution_count": 158,
   "metadata": {},
   "outputs": [
    {
     "name": "stderr",
     "output_type": "stream",
     "text": [
      "c:\\Users\\Vieri\\AppData\\Local\\Programs\\Python\\Python312\\Lib\\site-packages\\pytorch_tabnet\\abstract_model.py:82: UserWarning: Device used : cpu\n",
      "  warnings.warn(f\"Device used : {self.device}\")\n",
      "c:\\Users\\Vieri\\AppData\\Local\\Programs\\Python\\Python312\\Lib\\site-packages\\pytorch_tabnet\\abstract_model.py:687: UserWarning: No early stopping will be performed, last training weights will be used.\n",
      "  warnings.warn(wrn_msg)\n"
     ]
    },
    {
     "name": "stdout",
     "output_type": "stream",
     "text": [
      "epoch 0  | loss: 0.5788  |  0:00:00s\n",
      "epoch 1  | loss: 0.31026 |  0:00:00s\n",
      "epoch 2  | loss: 0.22278 |  0:00:01s\n",
      "epoch 3  | loss: 0.16579 |  0:00:01s\n",
      "epoch 4  | loss: 0.15127 |  0:00:01s\n",
      "epoch 5  | loss: 0.13236 |  0:00:01s\n",
      "epoch 6  | loss: 0.12415 |  0:00:02s\n",
      "epoch 7  | loss: 0.11101 |  0:00:02s\n",
      "epoch 8  | loss: 0.09981 |  0:00:02s\n",
      "epoch 9  | loss: 0.10481 |  0:00:03s\n",
      "epoch 10 | loss: 0.0984  |  0:00:03s\n",
      "epoch 11 | loss: 0.09262 |  0:00:03s\n",
      "epoch 12 | loss: 0.08043 |  0:00:04s\n",
      "epoch 13 | loss: 0.08535 |  0:00:04s\n",
      "epoch 14 | loss: 0.08673 |  0:00:05s\n",
      "epoch 15 | loss: 0.087   |  0:00:05s\n",
      "epoch 16 | loss: 0.0859  |  0:00:05s\n",
      "epoch 17 | loss: 0.08796 |  0:00:05s\n",
      "epoch 18 | loss: 0.07321 |  0:00:06s\n",
      "epoch 19 | loss: 0.07651 |  0:00:06s\n",
      "epoch 20 | loss: 0.08354 |  0:00:06s\n",
      "epoch 21 | loss: 0.07676 |  0:00:07s\n",
      "epoch 22 | loss: 0.07898 |  0:00:07s\n",
      "epoch 23 | loss: 0.07603 |  0:00:07s\n",
      "epoch 24 | loss: 0.07628 |  0:00:08s\n",
      "epoch 25 | loss: 0.0684  |  0:00:08s\n",
      "epoch 26 | loss: 0.07148 |  0:00:08s\n",
      "epoch 27 | loss: 0.07289 |  0:00:09s\n",
      "epoch 28 | loss: 0.06345 |  0:00:09s\n",
      "epoch 29 | loss: 0.07218 |  0:00:09s\n",
      "epoch 30 | loss: 0.0734  |  0:00:10s\n",
      "epoch 31 | loss: 0.07136 |  0:00:11s\n",
      "epoch 32 | loss: 0.07432 |  0:00:11s\n",
      "epoch 33 | loss: 0.06714 |  0:00:12s\n",
      "epoch 34 | loss: 0.072   |  0:00:12s\n",
      "epoch 35 | loss: 0.06707 |  0:00:13s\n",
      "epoch 36 | loss: 0.06447 |  0:00:13s\n",
      "epoch 37 | loss: 0.06984 |  0:00:13s\n",
      "epoch 38 | loss: 0.07183 |  0:00:14s\n",
      "epoch 39 | loss: 0.06563 |  0:00:15s\n",
      "epoch 40 | loss: 0.06375 |  0:00:15s\n",
      "epoch 41 | loss: 0.06693 |  0:00:16s\n",
      "epoch 42 | loss: 0.06259 |  0:00:16s\n",
      "epoch 43 | loss: 0.06849 |  0:00:16s\n",
      "epoch 44 | loss: 0.06573 |  0:00:17s\n",
      "epoch 45 | loss: 0.06904 |  0:00:17s\n",
      "epoch 46 | loss: 0.06359 |  0:00:17s\n",
      "epoch 47 | loss: 0.07339 |  0:00:18s\n",
      "epoch 48 | loss: 0.06437 |  0:00:18s\n",
      "epoch 49 | loss: 0.05888 |  0:00:18s\n",
      "epoch 50 | loss: 0.06151 |  0:00:19s\n",
      "epoch 51 | loss: 0.06508 |  0:00:19s\n",
      "epoch 52 | loss: 0.0608  |  0:00:19s\n",
      "epoch 53 | loss: 0.06493 |  0:00:20s\n",
      "epoch 54 | loss: 0.06188 |  0:00:20s\n",
      "epoch 55 | loss: 0.06031 |  0:00:21s\n",
      "epoch 56 | loss: 0.06521 |  0:00:22s\n",
      "epoch 57 | loss: 0.05662 |  0:00:22s\n",
      "epoch 58 | loss: 0.06072 |  0:00:23s\n",
      "epoch 59 | loss: 0.05882 |  0:00:24s\n",
      "epoch 60 | loss: 0.05673 |  0:00:24s\n",
      "epoch 61 | loss: 0.05977 |  0:00:25s\n",
      "epoch 62 | loss: 0.05809 |  0:00:26s\n",
      "epoch 63 | loss: 0.05739 |  0:00:26s\n",
      "epoch 64 | loss: 0.05988 |  0:00:27s\n",
      "epoch 65 | loss: 0.06053 |  0:00:27s\n",
      "epoch 66 | loss: 0.05728 |  0:00:28s\n",
      "epoch 67 | loss: 0.05709 |  0:00:29s\n",
      "epoch 68 | loss: 0.05556 |  0:00:30s\n",
      "epoch 69 | loss: 0.06319 |  0:00:32s\n",
      "epoch 70 | loss: 0.0586  |  0:00:32s\n",
      "epoch 71 | loss: 0.05848 |  0:00:33s\n",
      "epoch 72 | loss: 0.05624 |  0:00:34s\n",
      "epoch 73 | loss: 0.05761 |  0:00:35s\n",
      "epoch 74 | loss: 0.05967 |  0:00:36s\n",
      "epoch 75 | loss: 0.06093 |  0:00:37s\n",
      "epoch 76 | loss: 0.05421 |  0:00:37s\n",
      "epoch 77 | loss: 0.06019 |  0:00:38s\n",
      "epoch 78 | loss: 0.05475 |  0:00:39s\n",
      "epoch 79 | loss: 0.05441 |  0:00:40s\n",
      "epoch 80 | loss: 0.0584  |  0:00:41s\n",
      "epoch 81 | loss: 0.05715 |  0:00:42s\n",
      "epoch 82 | loss: 0.05568 |  0:00:42s\n",
      "epoch 83 | loss: 0.05321 |  0:00:43s\n",
      "epoch 84 | loss: 0.05886 |  0:00:44s\n",
      "epoch 85 | loss: 0.06266 |  0:00:44s\n",
      "epoch 86 | loss: 0.05294 |  0:00:45s\n",
      "epoch 87 | loss: 0.05936 |  0:00:45s\n",
      "epoch 88 | loss: 0.05825 |  0:00:46s\n",
      "epoch 89 | loss: 0.06063 |  0:00:46s\n",
      "epoch 90 | loss: 0.05549 |  0:00:47s\n",
      "epoch 91 | loss: 0.05552 |  0:00:47s\n",
      "epoch 92 | loss: 0.05965 |  0:00:47s\n",
      "epoch 93 | loss: 0.05975 |  0:00:48s\n",
      "epoch 94 | loss: 0.06349 |  0:00:48s\n",
      "epoch 95 | loss: 0.05574 |  0:00:48s\n",
      "epoch 96 | loss: 0.05384 |  0:00:49s\n",
      "epoch 97 | loss: 0.05744 |  0:00:49s\n",
      "epoch 98 | loss: 0.05642 |  0:00:49s\n",
      "epoch 99 | loss: 0.05391 |  0:00:49s\n"
     ]
    }
   ],
   "source": [
    "# CREATE AND TRAIN TabNet Classifier\n",
    "tabnet = TabNetClassifier()\n",
    "tabnet.fit(X_train.values, y_train, max_epochs=100)\n",
    "\n",
    "# CREATE PREDICTION DATASET - USING ALL DATA IN DATASET\n",
    "prediction_dataset = tabnet.predict(features.values)"
   ]
  },
  {
   "cell_type": "code",
   "execution_count": 159,
   "metadata": {},
   "outputs": [
    {
     "name": "stdout",
     "output_type": "stream",
     "text": [
      "0.9310689310689311\n",
      "0.9280719280719281\n",
      "0.995004995004995\n"
     ]
    }
   ],
   "source": [
    "# CREATE AND TRAIN RDR MODEL\n",
    "tabnet_rdr = rdr.fit(features, pd.DataFrame(prediction_dataset))\n",
    "\n",
    "# PREDICT - TabNet AND RDR\n",
    "tabnet_pred = tabnet.predict(X_test.values)\n",
    "tabnet_rdr_pred = tabnet_rdr.predict(X_test)\n",
    "\n",
    "print(metrics.accuracy_score(y_test,tabnet_pred))\n",
    "print(metrics.accuracy_score(y_test, tabnet_rdr_pred))\n",
    "print(metrics.accuracy_score(tabnet_pred, tabnet_rdr_pred))"
   ]
  },
  {
   "cell_type": "markdown",
   "metadata": {},
   "source": [
    "## 5. Accuracy Comparison between RDR model and conventional models"
   ]
  },
  {
   "cell_type": "code",
   "execution_count": 160,
   "metadata": {},
   "outputs": [
    {
     "data": {
      "text/html": [
       "<div>\n",
       "<style scoped>\n",
       "    .dataframe tbody tr th:only-of-type {\n",
       "        vertical-align: middle;\n",
       "    }\n",
       "\n",
       "    .dataframe tbody tr th {\n",
       "        vertical-align: top;\n",
       "    }\n",
       "\n",
       "    .dataframe thead th {\n",
       "        text-align: right;\n",
       "    }\n",
       "</style>\n",
       "<table border=\"1\" class=\"dataframe\">\n",
       "  <thead>\n",
       "    <tr style=\"text-align: right;\">\n",
       "      <th></th>\n",
       "      <th>Model</th>\n",
       "      <th>Accuracy</th>\n",
       "      <th>RDR Accuracy</th>\n",
       "      <th>Difference</th>\n",
       "    </tr>\n",
       "  </thead>\n",
       "  <tbody>\n",
       "    <tr>\n",
       "      <th>0</th>\n",
       "      <td>Decision Tree</td>\n",
       "      <td>0.953046953046953</td>\n",
       "      <td>0.919080919080919</td>\n",
       "      <td>0.944055944055944</td>\n",
       "    </tr>\n",
       "    <tr>\n",
       "      <th>1</th>\n",
       "      <td>Random Forest</td>\n",
       "      <td>0.960039960039960</td>\n",
       "      <td>0.959040959040959</td>\n",
       "      <td>0.995004995004995</td>\n",
       "    </tr>\n",
       "    <tr>\n",
       "      <th>2</th>\n",
       "      <td>XGBoost</td>\n",
       "      <td>0.965034965034965</td>\n",
       "      <td>0.965034965034965</td>\n",
       "      <td>1.000000000000000</td>\n",
       "    </tr>\n",
       "    <tr>\n",
       "      <th>3</th>\n",
       "      <td>Support Vector Machine</td>\n",
       "      <td>0.963036963036963</td>\n",
       "      <td>0.962037962037962</td>\n",
       "      <td>0.999000999000999</td>\n",
       "    </tr>\n",
       "    <tr>\n",
       "      <th>4</th>\n",
       "      <td>Multi-layer Perceptron</td>\n",
       "      <td>0.498501498501498</td>\n",
       "      <td>0.498501498501498</td>\n",
       "      <td>1.000000000000000</td>\n",
       "    </tr>\n",
       "    <tr>\n",
       "      <th>5</th>\n",
       "      <td>TabNet</td>\n",
       "      <td>0.931068931068931</td>\n",
       "      <td>0.928071928071928</td>\n",
       "      <td>0.995004995004995</td>\n",
       "    </tr>\n",
       "  </tbody>\n",
       "</table>\n",
       "</div>"
      ],
      "text/plain": [
       "                    Model           Accuracy       RDR Accuracy  \\\n",
       "0           Decision Tree  0.953046953046953  0.919080919080919   \n",
       "1           Random Forest  0.960039960039960  0.959040959040959   \n",
       "2                 XGBoost  0.965034965034965  0.965034965034965   \n",
       "3  Support Vector Machine  0.963036963036963  0.962037962037962   \n",
       "4  Multi-layer Perceptron  0.498501498501498  0.498501498501498   \n",
       "5                  TabNet  0.931068931068931  0.928071928071928   \n",
       "\n",
       "          Difference  \n",
       "0  0.944055944055944  \n",
       "1  0.995004995004995  \n",
       "2  1.000000000000000  \n",
       "3  0.999000999000999  \n",
       "4  1.000000000000000  \n",
       "5  0.995004995004995  "
      ]
     },
     "metadata": {},
     "output_type": "display_data"
    }
   ],
   "source": [
    "dtf_accuracy = metrics.accuracy_score(y_test,dtf_pred)\n",
    "rf_accuracy = metrics.accuracy_score(y_test,rf_pred)\n",
    "xgb_accuracy = metrics.accuracy_score(y_test,xgb_pred)\n",
    "svm_accuracy = metrics.accuracy_score(y_test,svm_pred)\n",
    "mlp_accuracy = metrics.accuracy_score(y_test,mlp_pred)\n",
    "tabnet_accuracy = metrics.accuracy_score(y_test,tabnet_pred)\n",
    "\n",
    "dtf_rdr_accuracy = metrics.accuracy_score(y_test, dtf_rdr_pred)\n",
    "rf_rdr_accuracy = metrics.accuracy_score(y_test, rf_rdr_pred)\n",
    "xgb_rdr_accuracy = metrics.accuracy_score(y_test, xgb_rdr_pred)\n",
    "svm_rdr_accuracy = metrics.accuracy_score(y_test, svm_rdr_pred)\n",
    "mlp_rdr_accuracy = metrics.accuracy_score(y_test, mlp_rdr_pred)\n",
    "tabnet_rdr_accuracy = metrics.accuracy_score(y_test, tabnet_rdr_pred)\n",
    "\n",
    "accuracy_table = []\n",
    "accuracy_table.append([\n",
    "    \"Decision Tree\",\n",
    "    dtf_accuracy,\n",
    "    dtf_rdr_accuracy,\n",
    "    metrics.accuracy_score(dtf_pred, dtf_rdr_pred)\n",
    "])\n",
    "\n",
    "accuracy_table.append([\n",
    "    \"Random Forest\",\n",
    "    rf_accuracy,\n",
    "    rf_rdr_accuracy,\n",
    "    metrics.accuracy_score(rf_pred, rf_rdr_pred)\n",
    "])\n",
    "\n",
    "accuracy_table.append([\n",
    "    \"XGBoost\",\n",
    "    xgb_accuracy,\n",
    "    xgb_rdr_accuracy,\n",
    "    metrics.accuracy_score(xgb_pred, xgb_rdr_pred)\n",
    "])\n",
    "\n",
    "accuracy_table.append([\n",
    "    \"Support Vector Machine\",\n",
    "    svm_accuracy,\n",
    "    svm_rdr_accuracy,\n",
    "    metrics.accuracy_score(svm_pred, svm_rdr_pred)\n",
    "])\n",
    "\n",
    "accuracy_table.append([\n",
    "    \"Multi-layer Perceptron\",\n",
    "    mlp_accuracy,\n",
    "    mlp_rdr_accuracy,\n",
    "    metrics.accuracy_score(mlp_pred, mlp_rdr_pred)\n",
    "])\n",
    "\n",
    "accuracy_table.append([\n",
    "    \"TabNet\",\n",
    "    tabnet_accuracy,\n",
    "    tabnet_rdr_accuracy,\n",
    "    metrics.accuracy_score(tabnet_pred, tabnet_rdr_pred)\n",
    "])\n",
    "\n",
    "accuracy_table = pd.DataFrame(accuracy_table, columns=[\"Model\", \"Accuracy\", \"RDR Accuracy\", \"Difference\"])\n",
    "pd.set_option('display.precision', 15)\n",
    "\n",
    "display(accuracy_table)"
   ]
  }
 ],
 "metadata": {
  "kernelspec": {
   "display_name": "Python 3",
   "language": "python",
   "name": "python3"
  },
  "language_info": {
   "codemirror_mode": {
    "name": "ipython",
    "version": 3
   },
   "file_extension": ".py",
   "mimetype": "text/x-python",
   "name": "python",
   "nbconvert_exporter": "python",
   "pygments_lexer": "ipython3",
   "version": "3.12.3"
  }
 },
 "nbformat": 4,
 "nbformat_minor": 2
}
